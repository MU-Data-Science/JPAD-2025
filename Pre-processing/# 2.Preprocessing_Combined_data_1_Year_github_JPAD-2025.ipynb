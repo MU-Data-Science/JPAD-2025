{
 "cells": [
  {
   "cell_type": "code",
   "execution_count": 2,
   "id": "9816416c",
   "metadata": {},
   "outputs": [],
   "source": [
    "# Import libraries\n",
    "\n",
    "import pandas as pd\n",
    "import numpy as np\n",
    "import matplotlib.pyplot as plt\n",
    "\n",
    "from sklearn.preprocessing import OneHotEncoder, MinMaxScaler\n",
    "from sklearn.compose import ColumnTransformer\n",
    "from sklearn.pipeline import Pipeline\n",
    "from imblearn.pipeline import Pipeline as imbPipeline\n",
    "from scipy.stats import skew\n",
    "\n",
    "\n",
    "import warnings\n",
    "warnings.filterwarnings('ignore')"
   ]
  },
  {
   "cell_type": "code",
   "execution_count": 3,
   "id": "95ea4a08",
   "metadata": {},
   "outputs": [],
   "source": [
    "# Read the CSV files\n",
    "\n",
    "case_data_4Yrs = pd.read_csv('1yr_Case_Data.csv')\n",
    "control_data_4Yrs = pd.read_csv('1yr_Control_Data.csv')"
   ]
  },
  {
   "cell_type": "code",
   "execution_count": 4,
   "id": "b09f77ae",
   "metadata": {},
   "outputs": [
    {
     "name": "stdout",
     "output_type": "stream",
     "text": [
      "Number of unique PATID values in case_data: 2591\n",
      "Number of unique PATID values in control_data: 119723\n"
     ]
    }
   ],
   "source": [
    "# Check the number of unique PATID values in each DataFrame\n",
    "print(\"Number of unique PATID values in case_data:\", case_data['PATID'].nunique())\n",
    "print(\"Number of unique PATID values in control_data:\", control_data['PATID'].nunique())\n"
   ]
  },
  {
   "cell_type": "code",
   "execution_count": 5,
   "id": "97ef624e",
   "metadata": {},
   "outputs": [
    {
     "name": "stdout",
     "output_type": "stream",
     "text": [
      "<class 'pandas.core.frame.DataFrame'>\n",
      "RangeIndex: 122314 entries, 0 to 122313\n",
      "Data columns (total 13 columns):\n",
      " #   Column          Non-Null Count   Dtype  \n",
      "---  ------          --------------   -----  \n",
      " 0   PATID           122314 non-null  int64  \n",
      " 1   Sex             122314 non-null  object \n",
      " 2   Race            122310 non-null  object \n",
      " 3   Marital_Status  122303 non-null  object \n",
      " 4   Max_DBP         122282 non-null  float64\n",
      " 5   Max_SBP         122294 non-null  float64\n",
      " 6   Min_DBP         122282 non-null  float64\n",
      " 7   Min_SBP         122294 non-null  float64\n",
      " 8   Comorbidities   121973 non-null  object \n",
      " 9   Smoking_Status  122091 non-null  object \n",
      " 10  Encounter Type  122314 non-null  object \n",
      " 11  Age_Grp         122314 non-null  object \n",
      " 12  Target          122314 non-null  int64  \n",
      "dtypes: float64(4), int64(2), object(7)\n",
      "memory usage: 12.1+ MB\n",
      "None\n",
      "     PATID Sex   Race Marital_Status  Max_DBP  Max_SBP  Min_DBP  Min_SBP  \\\n",
      "0  2370058   F  WHITE        Widowed    114.0    192.0     37.0     90.0   \n",
      "1  2459455   M  WHITE        Married    127.0    209.0      7.0     76.0   \n",
      "2  2516556   F  WHITE        Widowed    131.0    178.0     31.0     73.0   \n",
      "3  2335038   M  WHITE        Married    133.0    206.0      6.0     82.0   \n",
      "4  2524377   F  WHITE        Widowed    120.0    190.0     22.0     65.0   \n",
      "\n",
      "                                       Comorbidities  \\\n",
      "0  Morbid (severe) obesity due to excess calories...   \n",
      "1  HYPERTENSION NOS,Essential (primary) hypertens...   \n",
      "2                                                NaN   \n",
      "3  Essential (primary) hypertension-I10,HYPERLIPI...   \n",
      "4                                  ANXIETY STATE NOS   \n",
      "\n",
      "                             Smoking_Status                  Encounter Type  \\\n",
      "0                  Current every day smoker  EMERGENCY,OUTPATIENT,INPATIENT   \n",
      "1  Former smoker quit longer than 12 months  EMERGENCY,OUTPATIENT,INPATIENT   \n",
      "2                              Never smoker  OUTPATIENT,EMERGENCY,INPATIENT   \n",
      "3                  Current every day smoker  OUTPATIENT,EMERGENCY,INPATIENT   \n",
      "4                                       NaN  INPATIENT,EMERGENCY,OUTPATIENT   \n",
      "\n",
      "  Age_Grp  Target  \n",
      "0   80-90       1  \n",
      "1   70-80       1  \n",
      "2   80-90       1  \n",
      "3   70-80       1  \n",
      "4   80-90       1  \n"
     ]
    }
   ],
   "source": [
    "# Concatenate the two datasets along the rows\n",
    "data = pd.concat([case_data, control_data], ignore_index=True)\n",
    "\n",
    "# Print the combined DataFrame info to verify the changes\n",
    "print(data.info())\n",
    "print(data.head())"
   ]
  },
  {
   "cell_type": "code",
   "execution_count": 6,
   "id": "ce2ae532",
   "metadata": {},
   "outputs": [
    {
     "name": "stdout",
     "output_type": "stream",
     "text": [
      "PATID               0\n",
      "Sex                 0\n",
      "Race                4\n",
      "Marital_Status     11\n",
      "Max_DBP            32\n",
      "Max_SBP            20\n",
      "Min_DBP            32\n",
      "Min_SBP            20\n",
      "Comorbidities     341\n",
      "Smoking_Status    223\n",
      "Encounter Type      0\n",
      "Age_Grp             0\n",
      "Target              0\n",
      "dtype: int64\n"
     ]
    }
   ],
   "source": [
    "# Find the number of missing values per column\n",
    "data.isnull().sum(axis=0)\n",
    "print(data.isnull().sum(axis=0))"
   ]
  },
  {
   "cell_type": "markdown",
   "id": "3301f6e2",
   "metadata": {},
   "source": [
    "# Check for Symmetry and skewness to decide whether to use the mean, median or mode for imputing missing values in numerical data"
   ]
  },
  {
   "cell_type": "code",
   "execution_count": 7,
   "id": "13233da7",
   "metadata": {},
   "outputs": [
    {
     "name": "stdout",
     "output_type": "stream",
     "text": [
      "<class 'pandas.core.frame.DataFrame'>\n",
      "RangeIndex: 122314 entries, 0 to 122313\n",
      "Data columns (total 13 columns):\n",
      " #   Column          Non-Null Count   Dtype  \n",
      "---  ------          --------------   -----  \n",
      " 0   PATID           122314 non-null  int64  \n",
      " 1   Sex             122314 non-null  object \n",
      " 2   Race            122310 non-null  object \n",
      " 3   Marital_Status  122303 non-null  object \n",
      " 4   Max_DBP         122282 non-null  float64\n",
      " 5   Max_SBP         122294 non-null  float64\n",
      " 6   Min_DBP         122282 non-null  float64\n",
      " 7   Min_SBP         122294 non-null  float64\n",
      " 8   Comorbidities   121973 non-null  object \n",
      " 9   Smoking_Status  122091 non-null  object \n",
      " 10  Encounter Type  122314 non-null  object \n",
      " 11  Age_Grp         122314 non-null  object \n",
      " 12  Target          122314 non-null  int64  \n",
      "dtypes: float64(4), int64(2), object(7)\n",
      "memory usage: 12.1+ MB\n"
     ]
    }
   ],
   "source": [
    "data.info()"
   ]
  },
  {
   "cell_type": "code",
   "execution_count": 8,
   "id": "81161fe3",
   "metadata": {},
   "outputs": [
    {
     "name": "stdout",
     "output_type": "stream",
     "text": [
      "                Missing Values  Percentage Missing\n",
      "PATID                        0            0.000000\n",
      "Sex                          0            0.000000\n",
      "Race                         4            0.003270\n",
      "Marital_Status              11            0.008993\n",
      "Max_DBP                     32            0.026162\n",
      "Max_SBP                     20            0.016351\n",
      "Min_DBP                     32            0.026162\n",
      "Min_SBP                     20            0.016351\n",
      "Comorbidities              341            0.278791\n",
      "Smoking_Status             223            0.182318\n",
      "Encounter Type               0            0.000000\n",
      "Age_Grp                      0            0.000000\n",
      "Target                       0            0.000000\n"
     ]
    }
   ],
   "source": [
    "# Check the number of missing values in each column\n",
    "missing_values_after_imputation = data.isnull().sum()\n",
    "\n",
    "# Calculate the percentage of missing values in each column\n",
    "percentage_missing = (missing_values_after_imputation / len(data)) * 100\n",
    "\n",
    "# Print the number of missing values and their percentage\n",
    "missing_data_summary = pd.DataFrame({\n",
    "    'Missing Values': missing_values_after_imputation,\n",
    "    'Percentage Missing': percentage_missing\n",
    "})\n",
    "\n",
    "\n",
    "print(missing_data_summary)"
   ]
  },
  {
   "cell_type": "code",
   "execution_count": 9,
   "id": "6ad8c8ab",
   "metadata": {},
   "outputs": [
    {
     "data": {
      "image/png": "[encoded data removed]",
      "text/plain": [
       "<Figure size 1400x600 with 2 Axes>"
      ]
     },
     "metadata": {},
     "output_type": "display_data"
    },
    {
     "name": "stdout",
     "output_type": "stream",
     "text": [
      "Max_DBP: Distribution is skewed or has outliers. Impute missing values with median.\n"
     ]
    },
    {
     "data": {
      "image/png": "[encoded data removed]",
      "text/plain": [
       "<Figure size 1400x600 with 2 Axes>"
      ]
     },
     "metadata": {},
     "output_type": "display_data"
    },
    {
     "name": "stdout",
     "output_type": "stream",
     "text": [
      "Max_SBP: Distribution is skewed or has outliers. Impute missing values with median.\n"
     ]
    },
    {
     "data": {
      "image/png": "[encoded data removed]",
      "text/plain": [
       "<Figure size 1400x600 with 2 Axes>"
      ]
     },
     "metadata": {},
     "output_type": "display_data"
    },
    {
     "name": "stdout",
     "output_type": "stream",
     "text": [
      "Min_DBP: Distribution is skewed or has outliers. Impute missing values with median.\n"
     ]
    },
    {
     "data": {
      "image/png": "[encoded data removed]",
      "text/plain": [
       "<Figure size 1400x600 with 2 Axes>"
      ]
     },
     "metadata": {},
     "output_type": "display_data"
    },
    {
     "name": "stdout",
     "output_type": "stream",
     "text": [
      "Min_SBP: Distribution is skewed or has outliers. Impute missing values with median.\n"
     ]
    }
   ],
   "source": [
    "# Define the numerical columns\n",
    "numerical_columns = ['Max_DBP', 'Max_SBP', 'Min_DBP', 'Min_SBP']\n",
    "\n",
    "for column in numerical_columns:\n",
    "    # Calculate the column skewness\n",
    "    column_skewness = skew(data[column].dropna())\n",
    "    \n",
    "    # Plot the distribution and a boxplot\n",
    "    plt.figure(figsize=(14, 6))\n",
    "    \n",
    "    # Histogram\n",
    "    plt.subplot(1, 2, 1)\n",
    "    sns.histplot(data[column].dropna(), kde=True)\n",
    "    plt.title(f'Distribution of {column} (Skewness: {column_skewness:.2f})')\n",
    "    \n",
    "    # Boxplot\n",
    "    plt.subplot(1, 2, 2)\n",
    "    sns.boxplot(x=data[column])\n",
    "    plt.title(f'Boxplot of {column}')\n",
    "    \n",
    "    # Save the plot before showing it\n",
    "    plt.savefig(f'{column}_distribution_boxplot.png')\n",
    "    \n",
    "    \n",
    "    plt.show()\n",
    "\n",
    "    # Decide whether to use mean or median\n",
    "    if abs(column_skewness) < 0.5:\n",
    "        print(f\"{column}: Distribution is fairly symmetric. Impute missing values with mean.\")\n",
    "    else:\n",
    "        print(f\"{column}: Distribution is skewed or has outliers. Impute missing values with median.\")\n"
   ]
  },
  {
   "cell_type": "markdown",
   "id": "261b570f",
   "metadata": {},
   "source": [
    "# Impute missing values for the numerical features"
   ]
  },
  {
   "cell_type": "code",
   "execution_count": 10,
   "id": "4da4c0fb",
   "metadata": {},
   "outputs": [],
   "source": [
    "# Impute missing values with median for skewed distributions or columns with outliers\n",
    "\n",
    "data['Max_DBP'].fillna(data['Max_DBP'].median(), inplace=True)\n",
    "data['Max_SBP'].fillna(data['Max_SBP'].median(), inplace=True)\n",
    "data['Min_SBP'].fillna(data['Min_SBP'].median(), inplace=True)\n",
    "data['Min_DBP'].fillna(data['Min_DBP'].median(), inplace=True)"
   ]
  },
  {
   "cell_type": "code",
   "execution_count": 11,
   "id": "e4eb9555",
   "metadata": {},
   "outputs": [
    {
     "data": {
      "text/plain": [
       "PATID               0\n",
       "Sex                 0\n",
       "Race                4\n",
       "Marital_Status     11\n",
       "Max_DBP             0\n",
       "Max_SBP             0\n",
       "Min_DBP             0\n",
       "Min_SBP             0\n",
       "Comorbidities     341\n",
       "Smoking_Status    223\n",
       "Encounter Type      0\n",
       "Age_Grp             0\n",
       "Target              0\n",
       "dtype: int64"
      ]
     },
     "execution_count": 11,
     "metadata": {},
     "output_type": "execute_result"
    }
   ],
   "source": [
    "# Check the number of missing values in each column\n",
    "missing_values_after_imputation = data.isnull().sum()\n",
    "missing_values_after_imputation"
   ]
  },
  {
   "cell_type": "markdown",
   "id": "eb87ad02",
   "metadata": {},
   "source": [
    "# Mapping and Encoding Diastolic Blood Pressure (DBP), and Systolic Blood Pressure (SBP)"
   ]
  },
  {
   "cell_type": "code",
   "execution_count": 12,
   "id": "35be4f87",
   "metadata": {},
   "outputs": [
    {
     "name": "stdout",
     "output_type": "stream",
     "text": [
      "     PATID Sex   Race Marital_Status  \\\n",
      "0  2370058   F  WHITE        Widowed   \n",
      "1  2459455   M  WHITE        Married   \n",
      "2  2516556   F  WHITE        Widowed   \n",
      "3  2335038   M  WHITE        Married   \n",
      "4  2524377   F  WHITE        Widowed   \n",
      "\n",
      "                                       Comorbidities  \\\n",
      "0  Morbid (severe) obesity due to excess calories...   \n",
      "1  HYPERTENSION NOS,Essential (primary) hypertens...   \n",
      "2                                                NaN   \n",
      "3  Essential (primary) hypertension-I10,HYPERLIPI...   \n",
      "4                                  ANXIETY STATE NOS   \n",
      "\n",
      "                             Smoking_Status                  Encounter Type  \\\n",
      "0                  Current every day smoker  EMERGENCY,OUTPATIENT,INPATIENT   \n",
      "1  Former smoker quit longer than 12 months  EMERGENCY,OUTPATIENT,INPATIENT   \n",
      "2                              Never smoker  OUTPATIENT,EMERGENCY,INPATIENT   \n",
      "3                  Current every day smoker  OUTPATIENT,EMERGENCY,INPATIENT   \n",
      "4                                       NaN  INPATIENT,EMERGENCY,OUTPATIENT   \n",
      "\n",
      "  Age_Grp  Target  SBP below 120  SBP 120-140  SBP above 140  DBP below 80  \\\n",
      "0   80-90       1              0            0              1             0   \n",
      "1   70-80       1              0            0              1             0   \n",
      "2   80-90       1              0            0              1             0   \n",
      "3   70-80       1              0            0              1             0   \n",
      "4   80-90       1              0            0              1             0   \n",
      "\n",
      "   DBP 80-90  DBP above 90  \n",
      "0          0             1  \n",
      "1          0             1  \n",
      "2          0             1  \n",
      "3          0             1  \n",
      "4          0             1  \n",
      "Count for each SBP category:\n",
      "SBP below 120: 1514\n",
      "SBP 120-140: 10246\n",
      "SBP above 140: 110554\n",
      "\n",
      "Count for each DBP category:\n",
      "DBP below 80: 7992\n",
      "DBP 80-90: 21297\n",
      "DBP above 90: 93025\n"
     ]
    }
   ],
   "source": [
    "# Create SBP and DBP categories with desired labels\n",
    "data['SBP_Category'] = pd.cut(data['Max_SBP'], bins=[-float('inf'), 120, 140, float('inf')], labels=['SBP <=120', 'SBP 120-140', 'SBP >=140'])\n",
    "data['DBP_Category'] = pd.cut(data['Max_DBP'], bins=[-float('inf'), 80, 90, float('inf')], labels=['DBP <=80', 'DBP 80-90', 'DBP >=90'])\n",
    "\n",
    "# One-hot encoding\n",
    "data = pd.get_dummies(data, columns=['SBP_Category', 'DBP_Category'])\n",
    "\n",
    "# Rename the columns to match the format\n",
    "data = data.rename(columns={\n",
    "    'SBP_Category_SBP <=120': 'SBP below 120',\n",
    "    'SBP_Category_SBP 120-140': 'SBP 120-140',\n",
    "    'SBP_Category_SBP >=140': 'SBP above 140',\n",
    "    'DBP_Category_DBP <=80': 'DBP below 80',\n",
    "    'DBP_Category_DBP 80-90': 'DBP 80-90',\n",
    "    'DBP_Category_DBP >=90': 'DBP above 90'\n",
    "})\n",
    "\n",
    "# Remove the original columns\n",
    "data = data.drop(columns=['Max_SBP', 'Min_SBP', 'Max_DBP', 'Min_DBP'])\n",
    "\n",
    "# Display the resulting dataframe\n",
    "print(data.head())\n",
    "\n",
    "# Check and print the count for each category\n",
    "print(\"Count for each SBP category:\")\n",
    "print(f\"SBP below 120: {data['SBP below 120'].sum()}\")\n",
    "print(f\"SBP 120-140: {data['SBP 120-140'].sum()}\")\n",
    "print(f\"SBP above 140: {data['SBP above 140'].sum()}\")\n",
    "\n",
    "print(\"\\nCount for each DBP category:\")\n",
    "print(f\"DBP below 80: {data['DBP below 80'].sum()}\")\n",
    "print(f\"DBP 80-90: {data['DBP 80-90'].sum()}\")\n",
    "print(f\"DBP above 90: {data['DBP above 90'].sum()}\")\n"
   ]
  },
  {
   "cell_type": "code",
   "execution_count": 13,
   "id": "23fd2e63",
   "metadata": {},
   "outputs": [
    {
     "name": "stdout",
     "output_type": "stream",
     "text": [
      "                Missing Values  Percentage Missing\n",
      "PATID                        0            0.000000\n",
      "Sex                          0            0.000000\n",
      "Race                         4            0.003270\n",
      "Marital_Status              11            0.008993\n",
      "Comorbidities              341            0.278791\n",
      "Smoking_Status             223            0.182318\n",
      "Encounter Type               0            0.000000\n",
      "Age_Grp                      0            0.000000\n",
      "Target                       0            0.000000\n",
      "SBP below 120                0            0.000000\n",
      "SBP 120-140                  0            0.000000\n",
      "SBP above 140                0            0.000000\n",
      "DBP below 80                 0            0.000000\n",
      "DBP 80-90                    0            0.000000\n",
      "DBP above 90                 0            0.000000\n"
     ]
    }
   ],
   "source": [
    "# Check the number of missing values\n",
    "missing_values = data.isnull().sum()\n",
    "\n",
    "# Calculate the percentage of missing values in each column\n",
    "percentage_missing = (missing_values / len(data)) * 100\n",
    "\n",
    "# Print the number of missing values and their percentage\n",
    "missing_data_summary = pd.DataFrame({\n",
    "    'Missing Values': missing_values,\n",
    "    'Percentage Missing': percentage_missing\n",
    "})\n",
    "\n",
    "\n",
    "print(missing_data_summary)\n"
   ]
  },
  {
   "cell_type": "markdown",
   "id": "52643c67",
   "metadata": {},
   "source": [
    "# Mapping and Encoding"
   ]
  },
  {
   "cell_type": "markdown",
   "id": "7c0fa757",
   "metadata": {},
   "source": [
    "# 1. Encoding 'Age' column"
   ]
  },
  {
   "cell_type": "code",
   "execution_count": 14,
   "id": "aa322690",
   "metadata": {},
   "outputs": [],
   "source": [
    "# One hot encoding on the 'Age_Grp' column\n",
    "age_group_dummies = pd.get_dummies(data['Age_Grp'], prefix='Age_Grp')\n",
    "\n",
    "# Concatenate the original DataFrame with the new one hot encoded columns\n",
    "data = pd.concat([data, age_group_dummies], axis=1)"
   ]
  },
  {
   "cell_type": "code",
   "execution_count": 15,
   "id": "b8cdcaed",
   "metadata": {},
   "outputs": [
    {
     "data": {
      "text/html": [
       "<div>\n",
       "<style scoped>\n",
       "    .dataframe tbody tr th:only-of-type {\n",
       "        vertical-align: middle;\n",
       "    }\n",
       "\n",
       "    .dataframe tbody tr th {\n",
       "        vertical-align: top;\n",
       "    }\n",
       "\n",
       "    .dataframe thead th {\n",
       "        text-align: right;\n",
       "    }\n",
       "</style>\n",
       "<table border=\"1\" class=\"dataframe\">\n",
       "  <thead>\n",
       "    <tr style=\"text-align: right;\">\n",
       "      <th></th>\n",
       "      <th>PATID</th>\n",
       "      <th>Sex</th>\n",
       "      <th>Race</th>\n",
       "      <th>Marital_Status</th>\n",
       "      <th>Comorbidities</th>\n",
       "      <th>Smoking_Status</th>\n",
       "      <th>Encounter Type</th>\n",
       "      <th>Age_Grp</th>\n",
       "      <th>Target</th>\n",
       "      <th>SBP below 120</th>\n",
       "      <th>SBP 120-140</th>\n",
       "      <th>SBP above 140</th>\n",
       "      <th>DBP below 80</th>\n",
       "      <th>DBP 80-90</th>\n",
       "      <th>DBP above 90</th>\n",
       "      <th>Age_Grp_50-60</th>\n",
       "      <th>Age_Grp_60-70</th>\n",
       "      <th>Age_Grp_70-80</th>\n",
       "      <th>Age_Grp_80-90</th>\n",
       "      <th>Age_Grp_90-100</th>\n",
       "    </tr>\n",
       "  </thead>\n",
       "  <tbody>\n",
       "    <tr>\n",
       "      <th>0</th>\n",
       "      <td>2370058</td>\n",
       "      <td>F</td>\n",
       "      <td>WHITE</td>\n",
       "      <td>Widowed</td>\n",
       "      <td>Morbid (severe) obesity due to excess calories...</td>\n",
       "      <td>Current every day smoker</td>\n",
       "      <td>EMERGENCY,OUTPATIENT,INPATIENT</td>\n",
       "      <td>80-90</td>\n",
       "      <td>1</td>\n",
       "      <td>0</td>\n",
       "      <td>0</td>\n",
       "      <td>1</td>\n",
       "      <td>0</td>\n",
       "      <td>0</td>\n",
       "      <td>1</td>\n",
       "      <td>0</td>\n",
       "      <td>0</td>\n",
       "      <td>0</td>\n",
       "      <td>1</td>\n",
       "      <td>0</td>\n",
       "    </tr>\n",
       "    <tr>\n",
       "      <th>1</th>\n",
       "      <td>2459455</td>\n",
       "      <td>M</td>\n",
       "      <td>WHITE</td>\n",
       "      <td>Married</td>\n",
       "      <td>HYPERTENSION NOS,Essential (primary) hypertens...</td>\n",
       "      <td>Former smoker quit longer than 12 months</td>\n",
       "      <td>EMERGENCY,OUTPATIENT,INPATIENT</td>\n",
       "      <td>70-80</td>\n",
       "      <td>1</td>\n",
       "      <td>0</td>\n",
       "      <td>0</td>\n",
       "      <td>1</td>\n",
       "      <td>0</td>\n",
       "      <td>0</td>\n",
       "      <td>1</td>\n",
       "      <td>0</td>\n",
       "      <td>0</td>\n",
       "      <td>1</td>\n",
       "      <td>0</td>\n",
       "      <td>0</td>\n",
       "    </tr>\n",
       "    <tr>\n",
       "      <th>2</th>\n",
       "      <td>2516556</td>\n",
       "      <td>F</td>\n",
       "      <td>WHITE</td>\n",
       "      <td>Widowed</td>\n",
       "      <td>NaN</td>\n",
       "      <td>Never smoker</td>\n",
       "      <td>OUTPATIENT,EMERGENCY,INPATIENT</td>\n",
       "      <td>80-90</td>\n",
       "      <td>1</td>\n",
       "      <td>0</td>\n",
       "      <td>0</td>\n",
       "      <td>1</td>\n",
       "      <td>0</td>\n",
       "      <td>0</td>\n",
       "      <td>1</td>\n",
       "      <td>0</td>\n",
       "      <td>0</td>\n",
       "      <td>0</td>\n",
       "      <td>1</td>\n",
       "      <td>0</td>\n",
       "    </tr>\n",
       "    <tr>\n",
       "      <th>3</th>\n",
       "      <td>2335038</td>\n",
       "      <td>M</td>\n",
       "      <td>WHITE</td>\n",
       "      <td>Married</td>\n",
       "      <td>Essential (primary) hypertension-I10,HYPERLIPI...</td>\n",
       "      <td>Current every day smoker</td>\n",
       "      <td>OUTPATIENT,EMERGENCY,INPATIENT</td>\n",
       "      <td>70-80</td>\n",
       "      <td>1</td>\n",
       "      <td>0</td>\n",
       "      <td>0</td>\n",
       "      <td>1</td>\n",
       "      <td>0</td>\n",
       "      <td>0</td>\n",
       "      <td>1</td>\n",
       "      <td>0</td>\n",
       "      <td>0</td>\n",
       "      <td>1</td>\n",
       "      <td>0</td>\n",
       "      <td>0</td>\n",
       "    </tr>\n",
       "    <tr>\n",
       "      <th>4</th>\n",
       "      <td>2524377</td>\n",
       "      <td>F</td>\n",
       "      <td>WHITE</td>\n",
       "      <td>Widowed</td>\n",
       "      <td>ANXIETY STATE NOS</td>\n",
       "      <td>NaN</td>\n",
       "      <td>INPATIENT,EMERGENCY,OUTPATIENT</td>\n",
       "      <td>80-90</td>\n",
       "      <td>1</td>\n",
       "      <td>0</td>\n",
       "      <td>0</td>\n",
       "      <td>1</td>\n",
       "      <td>0</td>\n",
       "      <td>0</td>\n",
       "      <td>1</td>\n",
       "      <td>0</td>\n",
       "      <td>0</td>\n",
       "      <td>0</td>\n",
       "      <td>1</td>\n",
       "      <td>0</td>\n",
       "    </tr>\n",
       "  </tbody>\n",
       "</table>\n",
       "</div>"
      ],
      "text/plain": [
       "     PATID Sex   Race Marital_Status  \\\n",
       "0  2370058   F  WHITE        Widowed   \n",
       "1  2459455   M  WHITE        Married   \n",
       "2  2516556   F  WHITE        Widowed   \n",
       "3  2335038   M  WHITE        Married   \n",
       "4  2524377   F  WHITE        Widowed   \n",
       "\n",
       "                                       Comorbidities  \\\n",
       "0  Morbid (severe) obesity due to excess calories...   \n",
       "1  HYPERTENSION NOS,Essential (primary) hypertens...   \n",
       "2                                                NaN   \n",
       "3  Essential (primary) hypertension-I10,HYPERLIPI...   \n",
       "4                                  ANXIETY STATE NOS   \n",
       "\n",
       "                             Smoking_Status                  Encounter Type  \\\n",
       "0                  Current every day smoker  EMERGENCY,OUTPATIENT,INPATIENT   \n",
       "1  Former smoker quit longer than 12 months  EMERGENCY,OUTPATIENT,INPATIENT   \n",
       "2                              Never smoker  OUTPATIENT,EMERGENCY,INPATIENT   \n",
       "3                  Current every day smoker  OUTPATIENT,EMERGENCY,INPATIENT   \n",
       "4                                       NaN  INPATIENT,EMERGENCY,OUTPATIENT   \n",
       "\n",
       "  Age_Grp  Target  SBP below 120  SBP 120-140  SBP above 140  DBP below 80  \\\n",
       "0   80-90       1              0            0              1             0   \n",
       "1   70-80       1              0            0              1             0   \n",
       "2   80-90       1              0            0              1             0   \n",
       "3   70-80       1              0            0              1             0   \n",
       "4   80-90       1              0            0              1             0   \n",
       "\n",
       "   DBP 80-90  DBP above 90  Age_Grp_50-60  Age_Grp_60-70  Age_Grp_70-80  \\\n",
       "0          0             1              0              0              0   \n",
       "1          0             1              0              0              1   \n",
       "2          0             1              0              0              0   \n",
       "3          0             1              0              0              1   \n",
       "4          0             1              0              0              0   \n",
       "\n",
       "   Age_Grp_80-90  Age_Grp_90-100  \n",
       "0              1               0  \n",
       "1              0               0  \n",
       "2              1               0  \n",
       "3              0               0  \n",
       "4              1               0  "
      ]
     },
     "execution_count": 15,
     "metadata": {},
     "output_type": "execute_result"
    }
   ],
   "source": [
    "data.head()"
   ]
  },
  {
   "cell_type": "code",
   "execution_count": 16,
   "id": "cf255aab",
   "metadata": {},
   "outputs": [
    {
     "name": "stdout",
     "output_type": "stream",
     "text": [
      "     PATID Sex   Race Marital_Status  \\\n",
      "0  2370058   F  WHITE        Widowed   \n",
      "1  2459455   M  WHITE        Married   \n",
      "2  2516556   F  WHITE        Widowed   \n",
      "3  2335038   M  WHITE        Married   \n",
      "4  2524377   F  WHITE        Widowed   \n",
      "\n",
      "                                       Comorbidities  \\\n",
      "0  Morbid (severe) obesity due to excess calories...   \n",
      "1  HYPERTENSION NOS,Essential (primary) hypertens...   \n",
      "2                                                NaN   \n",
      "3  Essential (primary) hypertension-I10,HYPERLIPI...   \n",
      "4                                  ANXIETY STATE NOS   \n",
      "\n",
      "                             Smoking_Status                  Encounter Type  \\\n",
      "0                  Current every day smoker  EMERGENCY,OUTPATIENT,INPATIENT   \n",
      "1  Former smoker quit longer than 12 months  EMERGENCY,OUTPATIENT,INPATIENT   \n",
      "2                              Never smoker  OUTPATIENT,EMERGENCY,INPATIENT   \n",
      "3                  Current every day smoker  OUTPATIENT,EMERGENCY,INPATIENT   \n",
      "4                                       NaN  INPATIENT,EMERGENCY,OUTPATIENT   \n",
      "\n",
      "   Target  SBP below 120  SBP 120-140  SBP above 140  DBP below 80  DBP 80-90  \\\n",
      "0       1              0            0              1             0          0   \n",
      "1       1              0            0              1             0          0   \n",
      "2       1              0            0              1             0          0   \n",
      "3       1              0            0              1             0          0   \n",
      "4       1              0            0              1             0          0   \n",
      "\n",
      "   DBP above 90  Age_Grp_50-60  Age_Grp_60-70  Age_Grp_70-80  Age_Grp_80-90  \\\n",
      "0             1              0              0              0              1   \n",
      "1             1              0              0              1              0   \n",
      "2             1              0              0              0              1   \n",
      "3             1              0              0              1              0   \n",
      "4             1              0              0              0              1   \n",
      "\n",
      "   Age_Grp_90-100  \n",
      "0               0  \n",
      "1               0  \n",
      "2               0  \n",
      "3               0  \n",
      "4               0  \n",
      "<class 'pandas.core.frame.DataFrame'>\n",
      "RangeIndex: 122314 entries, 0 to 122313\n",
      "Data columns (total 19 columns):\n",
      " #   Column          Non-Null Count   Dtype \n",
      "---  ------          --------------   ----- \n",
      " 0   PATID           122314 non-null  int64 \n",
      " 1   Sex             122314 non-null  object\n",
      " 2   Race            122310 non-null  object\n",
      " 3   Marital_Status  122303 non-null  object\n",
      " 4   Comorbidities   121973 non-null  object\n",
      " 5   Smoking_Status  122091 non-null  object\n",
      " 6   Encounter Type  122314 non-null  object\n",
      " 7   Target          122314 non-null  int64 \n",
      " 8   SBP below 120   122314 non-null  uint8 \n",
      " 9   SBP 120-140     122314 non-null  uint8 \n",
      " 10  SBP above 140   122314 non-null  uint8 \n",
      " 11  DBP below 80    122314 non-null  uint8 \n",
      " 12  DBP 80-90       122314 non-null  uint8 \n",
      " 13  DBP above 90    122314 non-null  uint8 \n",
      " 14  Age_Grp_50-60   122314 non-null  uint8 \n",
      " 15  Age_Grp_60-70   122314 non-null  uint8 \n",
      " 16  Age_Grp_70-80   122314 non-null  uint8 \n",
      " 17  Age_Grp_80-90   122314 non-null  uint8 \n",
      " 18  Age_Grp_90-100  122314 non-null  uint8 \n",
      "dtypes: int64(2), object(6), uint8(11)\n",
      "memory usage: 8.7+ MB\n"
     ]
    }
   ],
   "source": [
    "# Drop the original 'Age_Group' column\n",
    "data = data.drop(columns=['Age_Grp'])\n",
    "\n",
    "# Display the DataFrame\n",
    "#print(\"DataFrame with One Hot Encoding:\")\n",
    "print(data.head())\n",
    "data.info()"
   ]
  },
  {
   "cell_type": "code",
   "execution_count": 17,
   "id": "88f2dc30",
   "metadata": {},
   "outputs": [
    {
     "name": "stdout",
     "output_type": "stream",
     "text": [
      "Initial value counts for 'Age_Grp_90-100:\n",
      "0    107229\n",
      "1     15085\n",
      "Name: Age_Grp_90-100, dtype: int64\n"
     ]
    }
   ],
   "source": [
    "# Print initial count\n",
    "\n",
    "initial_count = data['Age_Grp_90-100'].value_counts(dropna=False)\n",
    "print(\"Initial value counts for 'Age_Grp_90-100:\")\n",
    "print(initial_count)"
   ]
  },
  {
   "cell_type": "code",
   "execution_count": 18,
   "id": "4a23eb9e",
   "metadata": {},
   "outputs": [
    {
     "name": "stdout",
     "output_type": "stream",
     "text": [
      "Initial value counts for 'Age_Grp_80-90:\n",
      "0    94612\n",
      "1    27702\n",
      "Name: Age_Grp_80-90, dtype: int64\n"
     ]
    }
   ],
   "source": [
    "# Print initial count\n",
    "initial_count = data['Age_Grp_80-90'].value_counts(dropna=False)\n",
    "print(\"Initial value counts for 'Age_Grp_80-90:\")\n",
    "print(initial_count)"
   ]
  },
  {
   "cell_type": "code",
   "execution_count": 19,
   "id": "d85e8d8b",
   "metadata": {},
   "outputs": [
    {
     "name": "stdout",
     "output_type": "stream",
     "text": [
      "Initial value counts for 'Age_Grp_70-80:\n",
      "0    82857\n",
      "1    39457\n",
      "Name: Age_Grp_70-80, dtype: int64\n"
     ]
    }
   ],
   "source": [
    "# Print initial count\n",
    "initial_count = data['Age_Grp_70-80'].value_counts(dropna=False)\n",
    "print(\"Initial value counts for 'Age_Grp_70-80:\")\n",
    "print(initial_count)"
   ]
  },
  {
   "cell_type": "code",
   "execution_count": 20,
   "id": "cd449ad7",
   "metadata": {},
   "outputs": [
    {
     "name": "stdout",
     "output_type": "stream",
     "text": [
      "Initial value counts for 'Age_Grp_60-70:\n",
      "0    85719\n",
      "1    36595\n",
      "Name: Age_Grp_60-70, dtype: int64\n"
     ]
    }
   ],
   "source": [
    "# Print initial count\n",
    "initial_count = data['Age_Grp_60-70'].value_counts(dropna=False)\n",
    "print(\"Initial value counts for 'Age_Grp_60-70:\")\n",
    "print(initial_count)"
   ]
  },
  {
   "cell_type": "code",
   "execution_count": 21,
   "id": "7321e54f",
   "metadata": {},
   "outputs": [
    {
     "name": "stdout",
     "output_type": "stream",
     "text": [
      "Initial value counts for 'Age_Grp_50-60:\n",
      "0    118839\n",
      "1      3475\n",
      "Name: Age_Grp_50-60, dtype: int64\n"
     ]
    }
   ],
   "source": [
    "# Print initial count\n",
    "initial_count = data['Age_Grp_50-60'].value_counts(dropna=False)\n",
    "print(\"Initial value counts for 'Age_Grp_50-60:\")\n",
    "print(initial_count)"
   ]
  },
  {
   "cell_type": "markdown",
   "id": "54628456",
   "metadata": {},
   "source": [
    "# 2. Imputation, Mapping and Encoding for 'Smoking_Status' column "
   ]
  },
  {
   "cell_type": "code",
   "execution_count": 22,
   "id": "d3fe866a",
   "metadata": {},
   "outputs": [
    {
     "name": "stdout",
     "output_type": "stream",
     "text": [
      "Initial value counts for 'Smoking_Status' column:\n",
      "Never smoker                                51239\n",
      "Former smoker quit longer than 12 months    35745\n",
      "Current every day smoker                    31201\n",
      "Current some day smoker                      1967\n",
      "Former smoker quit within 12 months          1466\n",
      "Light tobacco smoker                          291\n",
      "NaN                                           223\n",
      "Heavy tobacco smoker                          120\n",
      "Smoker ###                                     62\n",
      "Name: Smoking_Status, dtype: int64\n"
     ]
    }
   ],
   "source": [
    "# Print initial count\n",
    "initial_count = data['Smoking_Status'].value_counts(dropna=False)\n",
    "print(\"Initial value counts for 'Smoking_Status' column:\")\n",
    "print(initial_count)"
   ]
  },
  {
   "cell_type": "code",
   "execution_count": 23,
   "id": "43c77615",
   "metadata": {
    "scrolled": true
   },
   "outputs": [
    {
     "name": "stdout",
     "output_type": "stream",
     "text": [
      "\n",
      "Value counts for 'Smoking_Status' column after imputation:\n",
      "Never smoker                                51462\n",
      "Former smoker quit longer than 12 months    35745\n",
      "Current every day smoker                    31201\n",
      "Current some day smoker                      1967\n",
      "Former smoker quit within 12 months          1466\n",
      "Light tobacco smoker                          291\n",
      "Heavy tobacco smoker                          120\n",
      "Smoker ###                                     62\n",
      "Name: Smoking_Status, dtype: int64\n"
     ]
    }
   ],
   "source": [
    "# Impute missing values in the 'Smoking_Status' column\n",
    "\n",
    "data['Smoking_Status'].fillna(data['Smoking_Status'].mode()[0], inplace=True)  \n",
    "\n",
    "# Verify the changes after imputation\n",
    "print(\"\\nValue counts for 'Smoking_Status' column after imputation:\")\n",
    "print(data['Smoking_Status'].value_counts(dropna=False))"
   ]
  },
  {
   "cell_type": "markdown",
   "id": "49f6c0ce",
   "metadata": {},
   "source": [
    "# Define the Mapping Function"
   ]
  },
  {
   "cell_type": "code",
   "execution_count": 24,
   "id": "4872ffc1",
   "metadata": {},
   "outputs": [],
   "source": [
    "# Normalize and clean the string values in 'Smoking_Status'\n",
    "data['Smoking_Status'] = data['Smoking_Status'].str.replace('#', '').str.strip()"
   ]
  },
  {
   "cell_type": "code",
   "execution_count": 26,
   "id": "3713b45f",
   "metadata": {},
   "outputs": [],
   "source": [
    "# Define the mapping for encoding\n",
    "smoking_status_mapping = {\n",
    "    'Never smoker': 0,\n",
    "    'Former smoker quit longer than 12 months': 1,\n",
    "    'Former smoker quit within 12 months': 1,\n",
    "    'Light tobacco smoker': 1,\n",
    "    'Current some day smoker': 1,\n",
    "    'Current every day smoker': 1,\n",
    "    'Smoker': 1,\n",
    "    'Heavy tobacco smoker': 1\n",
    "}"
   ]
  },
  {
   "cell_type": "code",
   "execution_count": 27,
   "id": "df7a5b7c",
   "metadata": {},
   "outputs": [
    {
     "name": "stdout",
     "output_type": "stream",
     "text": [
      "          PATID Sex   Race Marital_Status  \\\n",
      "0       2370058   F  WHITE        Widowed   \n",
      "1       2459455   M  WHITE        Married   \n",
      "2       2516556   F  WHITE        Widowed   \n",
      "3       2335038   M  WHITE        Married   \n",
      "4       2524377   F  WHITE        Widowed   \n",
      "...         ...  ..    ...            ...   \n",
      "122309  2633300   F  WHITE       Divorced   \n",
      "122310  1575030   F  WHITE        Married   \n",
      "122311  2940185   M  WHITE        Married   \n",
      "122312  1210750   M  WHITE         Single   \n",
      "122313  2430126   M  WHITE        Married   \n",
      "\n",
      "                                            Comorbidities  Smoking_Status  \\\n",
      "0       Morbid (severe) obesity due to excess calories...               1   \n",
      "1       HYPERTENSION NOS,Essential (primary) hypertens...               1   \n",
      "2                                                     NaN               0   \n",
      "3       Essential (primary) hypertension-I10,HYPERLIPI...               1   \n",
      "4                                       ANXIETY STATE NOS               0   \n",
      "...                                                   ...             ...   \n",
      "122309  HYPERTENSION NOS,MORBID OBESITY,HYPERTENSION N...               1   \n",
      "122310                                   HYPERTENSION NOS               1   \n",
      "122311  EPILEPSY NOS W/O IE,HYPERLIPIDEMIA NEC-NOS,EPI...               1   \n",
      "122312  Sleep apnea, unspecified-G47.30,UNSPECIFIED SL...               0   \n",
      "122313  Uncontrolled depression,DEPRESSIVE DISORDER NE...               1   \n",
      "\n",
      "                        Encounter Type  Target  SBP below 120  SBP 120-140  \\\n",
      "0       EMERGENCY,OUTPATIENT,INPATIENT       1              0            0   \n",
      "1       EMERGENCY,OUTPATIENT,INPATIENT       1              0            0   \n",
      "2       OUTPATIENT,EMERGENCY,INPATIENT       1              0            0   \n",
      "3       OUTPATIENT,EMERGENCY,INPATIENT       1              0            0   \n",
      "4       INPATIENT,EMERGENCY,OUTPATIENT       1              0            0   \n",
      "...                                ...     ...            ...          ...   \n",
      "122309            EMERGENCY,OUTPATIENT       0              0            0   \n",
      "122310            OUTPATIENT,INPATIENT       0              0            0   \n",
      "122311            OUTPATIENT,INPATIENT       0              0            0   \n",
      "122312            INPATIENT,OUTPATIENT       0              0            0   \n",
      "122313  EMERGENCY,OUTPATIENT,INPATIENT       0              0            0   \n",
      "\n",
      "        SBP above 140  DBP below 80  DBP 80-90  DBP above 90  Age_Grp_50-60  \\\n",
      "0                   1             0          0             1              0   \n",
      "1                   1             0          0             1              0   \n",
      "2                   1             0          0             1              0   \n",
      "3                   1             0          0             1              0   \n",
      "4                   1             0          0             1              0   \n",
      "...               ...           ...        ...           ...            ...   \n",
      "122309              1             0          0             1              0   \n",
      "122310              1             0          0             1              0   \n",
      "122311              1             0          0             1              0   \n",
      "122312              1             0          0             1              0   \n",
      "122313              1             0          0             1              0   \n",
      "\n",
      "        Age_Grp_60-70  Age_Grp_70-80  Age_Grp_80-90  Age_Grp_90-100  \n",
      "0                   0              0              1               0  \n",
      "1                   0              1              0               0  \n",
      "2                   0              0              1               0  \n",
      "3                   0              1              0               0  \n",
      "4                   0              0              1               0  \n",
      "...               ...            ...            ...             ...  \n",
      "122309              1              0              0               0  \n",
      "122310              0              1              0               0  \n",
      "122311              0              1              0               0  \n",
      "122312              0              1              0               0  \n",
      "122313              0              1              0               0  \n",
      "\n",
      "[122314 rows x 19 columns]\n"
     ]
    }
   ],
   "source": [
    "data['Smoking_Status'] = data['Smoking_Status'].map(smoking_status_mapping)\n",
    "\n",
    "print(data)"
   ]
  },
  {
   "cell_type": "code",
   "execution_count": 28,
   "id": "4e395f21",
   "metadata": {},
   "outputs": [
    {
     "name": "stdout",
     "output_type": "stream",
     "text": [
      "1    70852\n",
      "0    51462\n",
      "Name: Smoking_Status, dtype: int64\n"
     ]
    }
   ],
   "source": [
    "# Check the counts after encoding\n",
    "encoded_counts = data['Smoking_Status'].value_counts()\n",
    "\n",
    "print(encoded_counts)"
   ]
  },
  {
   "cell_type": "code",
   "execution_count": 29,
   "id": "4d40e215",
   "metadata": {},
   "outputs": [
    {
     "name": "stdout",
     "output_type": "stream",
     "text": [
      "<class 'pandas.core.frame.DataFrame'>\n",
      "RangeIndex: 122314 entries, 0 to 122313\n",
      "Data columns (total 19 columns):\n",
      " #   Column          Non-Null Count   Dtype \n",
      "---  ------          --------------   ----- \n",
      " 0   PATID           122314 non-null  int64 \n",
      " 1   Sex             122314 non-null  object\n",
      " 2   Race            122310 non-null  object\n",
      " 3   Marital_Status  122303 non-null  object\n",
      " 4   Comorbidities   121973 non-null  object\n",
      " 5   Smoking_Status  122314 non-null  int64 \n",
      " 6   Encounter Type  122314 non-null  object\n",
      " 7   Target          122314 non-null  int64 \n",
      " 8   SBP below 120   122314 non-null  uint8 \n",
      " 9   SBP 120-140     122314 non-null  uint8 \n",
      " 10  SBP above 140   122314 non-null  uint8 \n",
      " 11  DBP below 80    122314 non-null  uint8 \n",
      " 12  DBP 80-90       122314 non-null  uint8 \n",
      " 13  DBP above 90    122314 non-null  uint8 \n",
      " 14  Age_Grp_50-60   122314 non-null  uint8 \n",
      " 15  Age_Grp_60-70   122314 non-null  uint8 \n",
      " 16  Age_Grp_70-80   122314 non-null  uint8 \n",
      " 17  Age_Grp_80-90   122314 non-null  uint8 \n",
      " 18  Age_Grp_90-100  122314 non-null  uint8 \n",
      "dtypes: int64(3), object(5), uint8(11)\n",
      "memory usage: 8.7+ MB\n"
     ]
    }
   ],
   "source": [
    "data.info()"
   ]
  },
  {
   "cell_type": "markdown",
   "id": "7592ffd3",
   "metadata": {},
   "source": [
    "# 3. Mapping and Encoding 'Sex' column"
   ]
  },
  {
   "cell_type": "code",
   "execution_count": 30,
   "id": "9913dd88",
   "metadata": {},
   "outputs": [
    {
     "name": "stdout",
     "output_type": "stream",
     "text": [
      "['F' 'M']\n",
      "  Sex\n",
      "0   F\n",
      "1   M\n",
      "2   F\n",
      "3   M\n",
      "4   F\n",
      "F    65618\n",
      "M    56696\n",
      "Name: Sex, dtype: int64\n"
     ]
    }
   ],
   "source": [
    "# Check unique values in the 'Sex' column\n",
    "unique_Sex_Status = data['Sex'].unique()\n",
    "print(unique_Sex_Status)\n",
    "\n",
    "# Verify the new columns and their unique values\n",
    "print(data[['Sex']].head())\n",
    "print(data['Sex'].value_counts(dropna=False)) "
   ]
  },
  {
   "cell_type": "code",
   "execution_count": 31,
   "id": "f2fda38e",
   "metadata": {},
   "outputs": [],
   "source": [
    "# Apply one-hot encoding to the 'Sex' column\n",
    "data = pd.get_dummies(data, columns=['Sex'], dummy_na=False)"
   ]
  },
  {
   "cell_type": "code",
   "execution_count": 32,
   "id": "fa538232",
   "metadata": {},
   "outputs": [
    {
     "name": "stdout",
     "output_type": "stream",
     "text": [
      "<class 'pandas.core.frame.DataFrame'>\n",
      "RangeIndex: 122314 entries, 0 to 122313\n",
      "Data columns (total 20 columns):\n",
      " #   Column          Non-Null Count   Dtype \n",
      "---  ------          --------------   ----- \n",
      " 0   PATID           122314 non-null  int64 \n",
      " 1   Race            122310 non-null  object\n",
      " 2   Marital_Status  122303 non-null  object\n",
      " 3   Comorbidities   121973 non-null  object\n",
      " 4   Smoking_Status  122314 non-null  int64 \n",
      " 5   Encounter Type  122314 non-null  object\n",
      " 6   Target          122314 non-null  int64 \n",
      " 7   SBP below 120   122314 non-null  uint8 \n",
      " 8   SBP 120-140     122314 non-null  uint8 \n",
      " 9   SBP above 140   122314 non-null  uint8 \n",
      " 10  DBP below 80    122314 non-null  uint8 \n",
      " 11  DBP 80-90       122314 non-null  uint8 \n",
      " 12  DBP above 90    122314 non-null  uint8 \n",
      " 13  Age_Grp_50-60   122314 non-null  uint8 \n",
      " 14  Age_Grp_60-70   122314 non-null  uint8 \n",
      " 15  Age_Grp_70-80   122314 non-null  uint8 \n",
      " 16  Age_Grp_80-90   122314 non-null  uint8 \n",
      " 17  Age_Grp_90-100  122314 non-null  uint8 \n",
      " 18  Sex_F           122314 non-null  uint8 \n",
      " 19  Sex_M           122314 non-null  uint8 \n",
      "dtypes: int64(3), object(4), uint8(13)\n",
      "memory usage: 8.0+ MB\n",
      "None\n"
     ]
    }
   ],
   "source": [
    "# # Verify the one-hot encoded DataFrame\n",
    "# print(data.head())\n",
    "print(data.info())"
   ]
  },
  {
   "cell_type": "markdown",
   "id": "0aa57d54",
   "metadata": {},
   "source": [
    "# 4. Imputation, Mapping and Encoding for 'Race' column"
   ]
  },
  {
   "cell_type": "code",
   "execution_count": 33,
   "id": "4d4a0a36",
   "metadata": {},
   "outputs": [
    {
     "name": "stdout",
     "output_type": "stream",
     "text": [
      "WHITE                                      112011\n",
      "BLACK OR AFRICAN AMERICAN                    7393\n",
      "SOME OTHER RACE                              1121\n",
      "ASIAN                                        1071\n",
      "Unknown                                       455\n",
      "AMERICAN INDIAN OR ALASKAN NATIVE             210\n",
      "NATIVE HAWAIIAN OR OTHER PACIFIC ISLAND        49\n",
      "NaN                                             4\n",
      "Name: Race, dtype: int64\n"
     ]
    }
   ],
   "source": [
    "# Check unique values in the 'Race' column\n",
    "print(data['Race'].value_counts(dropna=False)) "
   ]
  },
  {
   "cell_type": "code",
   "execution_count": 34,
   "id": "0398e64d",
   "metadata": {},
   "outputs": [
    {
     "name": "stdout",
     "output_type": "stream",
     "text": [
      "Value counts for 'Race' column after replacing 'Unknown' with NaN:\n",
      "WHITE                                      112011\n",
      "BLACK OR AFRICAN AMERICAN                    7393\n",
      "SOME OTHER RACE                              1121\n",
      "ASIAN                                        1071\n",
      "NaN                                           459\n",
      "AMERICAN INDIAN OR ALASKAN NATIVE             210\n",
      "NATIVE HAWAIIAN OR OTHER PACIFIC ISLAND        49\n",
      "Name: Race, dtype: int64\n"
     ]
    }
   ],
   "source": [
    "# Replace 'Unknown' with NaN\n",
    "data['Race'] = data['Race'].replace('Unknown', np.nan)\n",
    "\n",
    "# Verify the changes\n",
    "print(\"Value counts for 'Race' column after replacing 'Unknown' with NaN:\")\n",
    "print(data['Race'].value_counts(dropna=False))"
   ]
  },
  {
   "cell_type": "code",
   "execution_count": 35,
   "id": "ffb48e26",
   "metadata": {},
   "outputs": [
    {
     "name": "stdout",
     "output_type": "stream",
     "text": [
      "                Missing Values  Percentage Missing\n",
      "PATID                        0            0.000000\n",
      "Race                       459            0.375264\n",
      "Marital_Status              11            0.008993\n",
      "Comorbidities              341            0.278791\n",
      "Smoking_Status               0            0.000000\n",
      "Encounter Type               0            0.000000\n",
      "Target                       0            0.000000\n",
      "SBP below 120                0            0.000000\n",
      "SBP 120-140                  0            0.000000\n",
      "SBP above 140                0            0.000000\n",
      "DBP below 80                 0            0.000000\n",
      "DBP 80-90                    0            0.000000\n",
      "DBP above 90                 0            0.000000\n",
      "Age_Grp_50-60                0            0.000000\n",
      "Age_Grp_60-70                0            0.000000\n",
      "Age_Grp_70-80                0            0.000000\n",
      "Age_Grp_80-90                0            0.000000\n",
      "Age_Grp_90-100               0            0.000000\n",
      "Sex_F                        0            0.000000\n",
      "Sex_M                        0            0.000000\n"
     ]
    }
   ],
   "source": [
    "# Check the number of missing values in each column\n",
    "missing_values = data.isnull().sum()\n",
    "\n",
    "# Calculate the percentage of missing values in each column\n",
    "percentage_missing = (missing_values / len(data)) * 100\n",
    "\n",
    "# Print the number of missing values and their percentage\n",
    "missing_data_summary = pd.DataFrame({\n",
    "    'Missing Values': missing_values,\n",
    "    'Percentage Missing': percentage_missing\n",
    "})\n",
    "\n",
    "print(missing_data_summary)"
   ]
  },
  {
   "cell_type": "code",
   "execution_count": 36,
   "id": "f7acdfae",
   "metadata": {},
   "outputs": [
    {
     "name": "stdout",
     "output_type": "stream",
     "text": [
      "PATID               0\n",
      "Race              459\n",
      "Marital_Status     11\n",
      "Comorbidities     341\n",
      "Smoking_Status      0\n",
      "Encounter Type      0\n",
      "Target              0\n",
      "SBP below 120       0\n",
      "SBP 120-140         0\n",
      "SBP above 140       0\n",
      "DBP below 80        0\n",
      "DBP 80-90           0\n",
      "DBP above 90        0\n",
      "Age_Grp_50-60       0\n",
      "Age_Grp_60-70       0\n",
      "Age_Grp_70-80       0\n",
      "Age_Grp_80-90       0\n",
      "Age_Grp_90-100      0\n",
      "Sex_F               0\n",
      "Sex_M               0\n",
      "dtype: int64\n"
     ]
    }
   ],
   "source": [
    "# Check the number of missing values in each column\n",
    "missing_values = data.isnull().sum()\n",
    "print(missing_values)"
   ]
  },
  {
   "cell_type": "code",
   "execution_count": 37,
   "id": "a2521a89",
   "metadata": {},
   "outputs": [
    {
     "name": "stdout",
     "output_type": "stream",
     "text": [
      "\n",
      "Value counts for 'Race' column after imputation:\n",
      "WHITE                                      112470\n",
      "BLACK OR AFRICAN AMERICAN                    7393\n",
      "SOME OTHER RACE                              1121\n",
      "ASIAN                                        1071\n",
      "AMERICAN INDIAN OR ALASKAN NATIVE             210\n",
      "NATIVE HAWAIIAN OR OTHER PACIFIC ISLAND        49\n",
      "Name: Race, dtype: int64\n"
     ]
    }
   ],
   "source": [
    "# Impute missing values in the 'Race' column\n",
    "\n",
    "data['Race'].fillna(data['Race'].mode()[0], inplace=True) \n",
    "\n",
    "# Verify the changes after imputation\n",
    "print(\"\\nValue counts for 'Race' column after imputation:\")\n",
    "print(data['Race'].value_counts(dropna=False))"
   ]
  },
  {
   "cell_type": "markdown",
   "id": "4a27a826",
   "metadata": {},
   "source": [
    "# Define the Mapping Function for 'Race'"
   ]
  },
  {
   "cell_type": "code",
   "execution_count": 38,
   "id": "4934aca9",
   "metadata": {},
   "outputs": [
    {
     "name": "stdout",
     "output_type": "stream",
     "text": [
      "white                                      112470\n",
      "black or african american                    7393\n",
      "some other race                              1121\n",
      "asian                                        1071\n",
      "american indian or alaskan native             210\n",
      "native hawaiian or other pacific island        49\n",
      "Name: Race_Grouped, dtype: int64\n"
     ]
    }
   ],
   "source": [
    "# Normalize and clean the string and Define the mapping function for 'Race'\n",
    "# Treat any other unknown or unexpected values as Unknown\n",
    "\n",
    "\n",
    "def map_race(status):\n",
    "    status = status.lower().strip() \n",
    "    \n",
    "    if status in ['white', \n",
    "                  'black or african american', \n",
    "                  'some other race',\n",
    "                  'asian', \n",
    "                  'american indian or alaskan native', \n",
    "                  'native hawaiian or other pacific island']:\n",
    "        return status\n",
    "    else:\n",
    "        return 'unknown'  \n",
    "\n",
    "# Apply the updated function to the 'Race' column\n",
    "data['Race_Grouped'] = data['Race'].apply(map_race)\n",
    "\n",
    "# Verify the changes\n",
    "print(data['Race_Grouped'].value_counts(dropna=False))\n",
    "\n",
    "# One-hot encoding on the 'Race_Grouped' column\n",
    "data = pd.get_dummies(data, columns=['Race_Grouped'], prefix='Race')"
   ]
  },
  {
   "cell_type": "code",
   "execution_count": 39,
   "id": "297e0f83",
   "metadata": {},
   "outputs": [
    {
     "name": "stdout",
     "output_type": "stream",
     "text": [
      "Race_american indian or alaskan native             210\n",
      "Race_asian                                        1071\n",
      "Race_black or african american                    7393\n",
      "Race_native hawaiian or other pacific island        49\n",
      "Race_some other race                              1121\n",
      "Race_white                                      112470\n",
      "dtype: int64\n",
      "     PATID   Race Marital_Status  \\\n",
      "0  2370058  WHITE        Widowed   \n",
      "1  2459455  WHITE        Married   \n",
      "2  2516556  WHITE        Widowed   \n",
      "3  2335038  WHITE        Married   \n",
      "4  2524377  WHITE        Widowed   \n",
      "\n",
      "                                       Comorbidities  Smoking_Status  \\\n",
      "0  Morbid (severe) obesity due to excess calories...               1   \n",
      "1  HYPERTENSION NOS,Essential (primary) hypertens...               1   \n",
      "2                                                NaN               0   \n",
      "3  Essential (primary) hypertension-I10,HYPERLIPI...               1   \n",
      "4                                  ANXIETY STATE NOS               0   \n",
      "\n",
      "                   Encounter Type  Target  SBP below 120  SBP 120-140  \\\n",
      "0  EMERGENCY,OUTPATIENT,INPATIENT       1              0            0   \n",
      "1  EMERGENCY,OUTPATIENT,INPATIENT       1              0            0   \n",
      "2  OUTPATIENT,EMERGENCY,INPATIENT       1              0            0   \n",
      "3  OUTPATIENT,EMERGENCY,INPATIENT       1              0            0   \n",
      "4  INPATIENT,EMERGENCY,OUTPATIENT       1              0            0   \n",
      "\n",
      "   SBP above 140  ...  Age_Grp_80-90  Age_Grp_90-100  Sex_F  Sex_M  \\\n",
      "0              1  ...              1               0      1      0   \n",
      "1              1  ...              0               0      0      1   \n",
      "2              1  ...              1               0      1      0   \n",
      "3              1  ...              0               0      0      1   \n",
      "4              1  ...              1               0      1      0   \n",
      "\n",
      "   Race_american indian or alaskan native  Race_asian  \\\n",
      "0                                       0           0   \n",
      "1                                       0           0   \n",
      "2                                       0           0   \n",
      "3                                       0           0   \n",
      "4                                       0           0   \n",
      "\n",
      "   Race_black or african american  \\\n",
      "0                               0   \n",
      "1                               0   \n",
      "2                               0   \n",
      "3                               0   \n",
      "4                               0   \n",
      "\n",
      "   Race_native hawaiian or other pacific island  Race_some other race  \\\n",
      "0                                             0                     0   \n",
      "1                                             0                     0   \n",
      "2                                             0                     0   \n",
      "3                                             0                     0   \n",
      "4                                             0                     0   \n",
      "\n",
      "   Race_white  \n",
      "0           1  \n",
      "1           1  \n",
      "2           1  \n",
      "3           1  \n",
      "4           1  \n",
      "\n",
      "[5 rows x 26 columns]\n"
     ]
    }
   ],
   "source": [
    "# Check the unique values and their counts in the 'Race' column after mapping\n",
    "race_counts = data.filter(like='Race_').sum()\n",
    "print(race_counts)\n",
    "\n",
    "# Display the dataframe to verify encoding\n",
    "print(data.head())\n"
   ]
  },
  {
   "cell_type": "code",
   "execution_count": 40,
   "id": "cbc9c622",
   "metadata": {},
   "outputs": [
    {
     "name": "stdout",
     "output_type": "stream",
     "text": [
      "<class 'pandas.core.frame.DataFrame'>\n",
      "RangeIndex: 122314 entries, 0 to 122313\n",
      "Data columns (total 25 columns):\n",
      " #   Column                Non-Null Count   Dtype \n",
      "---  ------                --------------   ----- \n",
      " 0   PATID                 122314 non-null  int64 \n",
      " 1   Marital_Status        122303 non-null  object\n",
      " 2   Comorbidities         121973 non-null  object\n",
      " 3   Smoking_Status        122314 non-null  int64 \n",
      " 4   Encounter Type        122314 non-null  object\n",
      " 5   Target                122314 non-null  int64 \n",
      " 6   SBP below 120         122314 non-null  uint8 \n",
      " 7   SBP 120-140           122314 non-null  uint8 \n",
      " 8   SBP above 140         122314 non-null  uint8 \n",
      " 9   DBP below 80          122314 non-null  uint8 \n",
      " 10  DBP 80-90             122314 non-null  uint8 \n",
      " 11  DBP above 90          122314 non-null  uint8 \n",
      " 12  Age_Grp_50-60         122314 non-null  uint8 \n",
      " 13  Age_Grp_60-70         122314 non-null  uint8 \n",
      " 14  Age_Grp_70-80         122314 non-null  uint8 \n",
      " 15  Age_Grp_80-90         122314 non-null  uint8 \n",
      " 16  Age_Grp_90-100        122314 non-null  uint8 \n",
      " 17  Sex_F                 122314 non-null  uint8 \n",
      " 18  Sex_M                 122314 non-null  uint8 \n",
      " 19  AMERICAN_IND/ALASKAN  122314 non-null  uint8 \n",
      " 20  Race_asian            122314 non-null  uint8 \n",
      " 21  BLACK/AFRIC_AMERICAN  122314 non-null  uint8 \n",
      " 22  NAT_HAWAIIN           122314 non-null  uint8 \n",
      " 23  OTHER                 122314 non-null  uint8 \n",
      " 24  WHITE                 122314 non-null  uint8 \n",
      "dtypes: int64(3), object(3), uint8(19)\n",
      "memory usage: 7.8+ MB\n"
     ]
    }
   ],
   "source": [
    "# Dictionary mapping old column names to new column names\n",
    "\n",
    "new_column_names = {\n",
    "    'Race_american indian or alaskan native': 'AMERICAN_IND/ALASKAN',\n",
    "    'ace_asian': 'ASIAN',\n",
    "    'Race_black or african american': 'BLACK/AFRIC_AMERICAN',\n",
    "    'Race_native hawaiian or other pacific island': 'NAT_HAWAIIN',\n",
    "    'Race_some other race': 'OTHER',\n",
    "    'Race_white': 'WHITE',\n",
    "}\n",
    "\n",
    "# Rename the columns using the rename method\n",
    "data.rename(columns=new_column_names, inplace=True)\n",
    "\n",
    "# Drop the original 'Race' column as it has been encoded\n",
    "data = data.drop(columns=['Race'], errors='ignore')\n",
    "\n",
    "# Verify the changes\n",
    "#print(data.columns)\n",
    "data.info()"
   ]
  },
  {
   "cell_type": "markdown",
   "id": "d50eb5d3",
   "metadata": {},
   "source": [
    "# 5. Imputation, Mapping and Encoding 'Marital_Status' column"
   ]
  },
  {
   "cell_type": "code",
   "execution_count": 41,
   "id": "41249386",
   "metadata": {},
   "outputs": [
    {
     "name": "stdout",
     "output_type": "stream",
     "text": [
      "['Widowed' 'Married' 'Divorced' 'Single' 'Unknown' 'Separated' nan\n",
      " 'Life Partner']\n",
      "Married         70166\n",
      "Single          20834\n",
      "Divorced        14968\n",
      "Widowed         13262\n",
      "Unknown          1502\n",
      "Separated        1492\n",
      "Life Partner       79\n",
      "NaN                11\n",
      "Name: Marital_Status, dtype: int64\n"
     ]
    }
   ],
   "source": [
    "# Check unique values in the 'Marital_Status' column\n",
    "unique_Marital_Status = data['Marital_Status'].unique()\n",
    "print(unique_Marital_Status)\n",
    "\n",
    "# Verify the new columns and their unique values\n",
    "print(data['Marital_Status'].value_counts(dropna=False)) "
   ]
  },
  {
   "cell_type": "code",
   "execution_count": 42,
   "id": "af59bd5b",
   "metadata": {},
   "outputs": [
    {
     "name": "stdout",
     "output_type": "stream",
     "text": [
      "Value counts for 'Marital_Status' column after replacing 'Unknown' with NaN:\n",
      "Married         70166\n",
      "Single          20834\n",
      "Divorced        14968\n",
      "Widowed         13262\n",
      "NaN              1513\n",
      "Separated        1492\n",
      "Life Partner       79\n",
      "Name: Marital_Status, dtype: int64\n"
     ]
    }
   ],
   "source": [
    "# Replace 'Unknown' with NaN in the 'Marital_Status' column\n",
    "data['Marital_Status'] = data['Marital_Status'].replace('Unknown', np.nan)\n",
    "\n",
    "# Verify the changes\n",
    "print(\"Value counts for 'Marital_Status' column after replacing 'Unknown' with NaN:\")\n",
    "print(data['Marital_Status'].value_counts(dropna=False))"
   ]
  },
  {
   "cell_type": "code",
   "execution_count": 43,
   "id": "0a1c4013",
   "metadata": {},
   "outputs": [
    {
     "name": "stdout",
     "output_type": "stream",
     "text": [
      "\n",
      "Value counts for 'Marital_Status' column after imputation:\n",
      "Married         71679\n",
      "Single          20834\n",
      "Divorced        14968\n",
      "Widowed         13262\n",
      "Separated        1492\n",
      "Life Partner       79\n",
      "Name: Marital_Status, dtype: int64\n"
     ]
    }
   ],
   "source": [
    "# Impute missing values in the 'Marital_Status' column\n",
    "\n",
    "mode_value = data['Marital_Status'].mode()[0]\n",
    "data['Marital_Status'].fillna(mode_value, inplace=True)\n",
    "\n",
    "# Verify the changes after imputation\n",
    "print(\"\\nValue counts for 'Marital_Status' column after imputation:\")\n",
    "print(data['Marital_Status'].value_counts(dropna=False))\n",
    "\n",
    "# One-hot encoding on the 'Marital_Status' column\n",
    "data = pd.get_dummies(data, columns=['Marital_Status'], prefix='Marital_Status')"
   ]
  },
  {
   "cell_type": "code",
   "execution_count": 44,
   "id": "0a6b3198",
   "metadata": {},
   "outputs": [
    {
     "name": "stdout",
     "output_type": "stream",
     "text": [
      "     PATID                                      Comorbidities  Smoking_Status  \\\n",
      "0  2370058  Morbid (severe) obesity due to excess calories...               1   \n",
      "1  2459455  HYPERTENSION NOS,Essential (primary) hypertens...               1   \n",
      "2  2516556                                                NaN               0   \n",
      "3  2335038  Essential (primary) hypertension-I10,HYPERLIPI...               1   \n",
      "4  2524377                                  ANXIETY STATE NOS               0   \n",
      "\n",
      "                   Encounter Type  Target  SBP below 120  SBP 120-140  \\\n",
      "0  EMERGENCY,OUTPATIENT,INPATIENT       1              0            0   \n",
      "1  EMERGENCY,OUTPATIENT,INPATIENT       1              0            0   \n",
      "2  OUTPATIENT,EMERGENCY,INPATIENT       1              0            0   \n",
      "3  OUTPATIENT,EMERGENCY,INPATIENT       1              0            0   \n",
      "4  INPATIENT,EMERGENCY,OUTPATIENT       1              0            0   \n",
      "\n",
      "   SBP above 140  DBP below 80  DBP 80-90  ...  BLACK/AFRIC_AMERICAN  \\\n",
      "0              1             0          0  ...                     0   \n",
      "1              1             0          0  ...                     0   \n",
      "2              1             0          0  ...                     0   \n",
      "3              1             0          0  ...                     0   \n",
      "4              1             0          0  ...                     0   \n",
      "\n",
      "   NAT_HAWAIIN  OTHER  WHITE  Marital_Status_Divorced  \\\n",
      "0            0      0      1                        0   \n",
      "1            0      0      1                        0   \n",
      "2            0      0      1                        0   \n",
      "3            0      0      1                        0   \n",
      "4            0      0      1                        0   \n",
      "\n",
      "   Marital_Status_Life Partner  Marital_Status_Married  \\\n",
      "0                            0                       0   \n",
      "1                            0                       1   \n",
      "2                            0                       0   \n",
      "3                            0                       1   \n",
      "4                            0                       0   \n",
      "\n",
      "   Marital_Status_Separated  Marital_Status_Single  Marital_Status_Widowed  \n",
      "0                         0                      0                       1  \n",
      "1                         0                      0                       0  \n",
      "2                         0                      0                       1  \n",
      "3                         0                      0                       0  \n",
      "4                         0                      0                       1  \n",
      "\n",
      "[5 rows x 30 columns]\n",
      "<class 'pandas.core.frame.DataFrame'>\n",
      "RangeIndex: 122314 entries, 0 to 122313\n",
      "Data columns (total 30 columns):\n",
      " #   Column                       Non-Null Count   Dtype \n",
      "---  ------                       --------------   ----- \n",
      " 0   PATID                        122314 non-null  int64 \n",
      " 1   Comorbidities                121973 non-null  object\n",
      " 2   Smoking_Status               122314 non-null  int64 \n",
      " 3   Encounter Type               122314 non-null  object\n",
      " 4   Target                       122314 non-null  int64 \n",
      " 5   SBP below 120                122314 non-null  uint8 \n",
      " 6   SBP 120-140                  122314 non-null  uint8 \n",
      " 7   SBP above 140                122314 non-null  uint8 \n",
      " 8   DBP below 80                 122314 non-null  uint8 \n",
      " 9   DBP 80-90                    122314 non-null  uint8 \n",
      " 10  DBP above 90                 122314 non-null  uint8 \n",
      " 11  Age_Grp_50-60                122314 non-null  uint8 \n",
      " 12  Age_Grp_60-70                122314 non-null  uint8 \n",
      " 13  Age_Grp_70-80                122314 non-null  uint8 \n",
      " 14  Age_Grp_80-90                122314 non-null  uint8 \n",
      " 15  Age_Grp_90-100               122314 non-null  uint8 \n",
      " 16  Sex_F                        122314 non-null  uint8 \n",
      " 17  Sex_M                        122314 non-null  uint8 \n",
      " 18  AMERICAN_IND/ALASKAN         122314 non-null  uint8 \n",
      " 19  Race_asian                   122314 non-null  uint8 \n",
      " 20  BLACK/AFRIC_AMERICAN         122314 non-null  uint8 \n",
      " 21  NAT_HAWAIIN                  122314 non-null  uint8 \n",
      " 22  OTHER                        122314 non-null  uint8 \n",
      " 23  WHITE                        122314 non-null  uint8 \n",
      " 24  Marital_Status_Divorced      122314 non-null  uint8 \n",
      " 25  Marital_Status_Life Partner  122314 non-null  uint8 \n",
      " 26  Marital_Status_Married       122314 non-null  uint8 \n",
      " 27  Marital_Status_Separated     122314 non-null  uint8 \n",
      " 28  Marital_Status_Single        122314 non-null  uint8 \n",
      " 29  Marital_Status_Widowed       122314 non-null  uint8 \n",
      "dtypes: int64(3), object(2), uint8(25)\n",
      "memory usage: 7.6+ MB\n"
     ]
    }
   ],
   "source": [
    "# Display the dataframe to verify encoding\n",
    "print(data.head())\n",
    "data.info()"
   ]
  },
  {
   "cell_type": "code",
   "execution_count": 45,
   "id": "8ff4fd22",
   "metadata": {},
   "outputs": [
    {
     "name": "stdout",
     "output_type": "stream",
     "text": [
      "Index(['PATID', 'Comorbidities', 'Smoking_Status', 'Encounter Type', 'Target',\n",
      "       'SBP below 120', 'SBP 120-140', 'SBP above 140', 'DBP below 80',\n",
      "       'DBP 80-90', 'DBP above 90', 'Age_Grp_50-60', 'Age_Grp_60-70',\n",
      "       'Age_Grp_70-80', 'Age_Grp_80-90', 'Age_Grp_90-100', 'Sex_F', 'Sex_M',\n",
      "       'AMERICAN_IND/ALASKAN', 'Race_asian', 'BLACK/AFRIC_AMERICAN',\n",
      "       'NAT_HAWAIIN', 'OTHER', 'WHITE', 'Divorced', 'Life Partner', 'Married',\n",
      "       'Separated', 'Single', 'Widowed'],\n",
      "      dtype='object')\n",
      "<class 'pandas.core.frame.DataFrame'>\n",
      "RangeIndex: 122314 entries, 0 to 122313\n",
      "Data columns (total 30 columns):\n",
      " #   Column                Non-Null Count   Dtype \n",
      "---  ------                --------------   ----- \n",
      " 0   PATID                 122314 non-null  int64 \n",
      " 1   Comorbidities         121973 non-null  object\n",
      " 2   Smoking_Status        122314 non-null  int64 \n",
      " 3   Encounter Type        122314 non-null  object\n",
      " 4   Target                122314 non-null  int64 \n",
      " 5   SBP below 120         122314 non-null  uint8 \n",
      " 6   SBP 120-140           122314 non-null  uint8 \n",
      " 7   SBP above 140         122314 non-null  uint8 \n",
      " 8   DBP below 80          122314 non-null  uint8 \n",
      " 9   DBP 80-90             122314 non-null  uint8 \n",
      " 10  DBP above 90          122314 non-null  uint8 \n",
      " 11  Age_Grp_50-60         122314 non-null  uint8 \n",
      " 12  Age_Grp_60-70         122314 non-null  uint8 \n",
      " 13  Age_Grp_70-80         122314 non-null  uint8 \n",
      " 14  Age_Grp_80-90         122314 non-null  uint8 \n",
      " 15  Age_Grp_90-100        122314 non-null  uint8 \n",
      " 16  Sex_F                 122314 non-null  uint8 \n",
      " 17  Sex_M                 122314 non-null  uint8 \n",
      " 18  AMERICAN_IND/ALASKAN  122314 non-null  uint8 \n",
      " 19  Race_asian            122314 non-null  uint8 \n",
      " 20  BLACK/AFRIC_AMERICAN  122314 non-null  uint8 \n",
      " 21  NAT_HAWAIIN           122314 non-null  uint8 \n",
      " 22  OTHER                 122314 non-null  uint8 \n",
      " 23  WHITE                 122314 non-null  uint8 \n",
      " 24  Divorced              122314 non-null  uint8 \n",
      " 25  Life Partner          122314 non-null  uint8 \n",
      " 26  Married               122314 non-null  uint8 \n",
      " 27  Separated             122314 non-null  uint8 \n",
      " 28  Single                122314 non-null  uint8 \n",
      " 29  Widowed               122314 non-null  uint8 \n",
      "dtypes: int64(3), object(2), uint8(25)\n",
      "memory usage: 7.6+ MB\n"
     ]
    }
   ],
   "source": [
    "# Dictionary mapping old column names to new column names\n",
    "new_column_names = {\n",
    "    'Marital_Status_Divorced': 'Divorced',\n",
    "    'Marital_Status_Life Partner': 'Life Partner',\n",
    "    'Marital_Status_Married': 'Married',\n",
    "    'Marital_Status_Separated': 'Separated',\n",
    "    'Marital_Status_Single': 'Single',\n",
    "    'Marital_Status_Widowed': 'Widowed'\n",
    "}\n",
    "\n",
    "# Rename the columns using the rename method\n",
    "data.rename(columns=new_column_names, inplace=True)\n",
    "\n",
    "\n",
    "# Verify the changes\n",
    "print(data.columns)\n",
    "data.info()"
   ]
  },
  {
   "cell_type": "markdown",
   "id": "7bb92566",
   "metadata": {},
   "source": [
    "# 6. Mapping and Encoding 'Encounter Type' Column"
   ]
  },
  {
   "cell_type": "code",
   "execution_count": 46,
   "id": "1f39b000",
   "metadata": {},
   "outputs": [
    {
     "name": "stdout",
     "output_type": "stream",
     "text": [
      "Encounter Type Counts:\n",
      "OUTPATIENT                        30330\n",
      "OUTPATIENT,INPATIENT              15721\n",
      "INPATIENT,OUTPATIENT              12922\n",
      "OUTPATIENT,EMERGENCY               9411\n",
      "OUTPATIENT,EMERGENCY,INPATIENT     8800\n",
      "OUTPATIENT,INPATIENT,EMERGENCY     8784\n",
      "EMERGENCY,OUTPATIENT               7612\n",
      "EMERGENCY,OUTPATIENT,INPATIENT     7563\n",
      "INPATIENT,OUTPATIENT,EMERGENCY     7424\n",
      "EMERGENCY,INPATIENT,OUTPATIENT     6441\n",
      "INPATIENT,EMERGENCY,OUTPATIENT     6260\n",
      "EMERGENCY,INPATIENT                 388\n",
      "INPATIENT,EMERGENCY                 365\n",
      "INPATIENT                           220\n",
      "EMERGENCY                            73\n",
      "Name: Encounter Type, dtype: int64\n"
     ]
    }
   ],
   "source": [
    "# Display the value counts for the 'Encounter Type' column\n",
    "encounter_type_counts = data['Encounter Type'].value_counts()\n",
    "print(\"Encounter Type Counts:\")\n",
    "print(encounter_type_counts)"
   ]
  },
  {
   "cell_type": "code",
   "execution_count": 47,
   "id": "d8a9daeb",
   "metadata": {},
   "outputs": [
    {
     "name": "stdout",
     "output_type": "stream",
     "text": [
      "Updated DataFrame with One Hot Encoding for 'Encounter Type':\n",
      "     PATID                                      Comorbidities  Smoking_Status  \\\n",
      "0  2370058  Morbid (severe) obesity due to excess calories...               1   \n",
      "1  2459455  HYPERTENSION NOS,Essential (primary) hypertens...               1   \n",
      "2  2516556                                                NaN               0   \n",
      "3  2335038  Essential (primary) hypertension-I10,HYPERLIPI...               1   \n",
      "4  2524377                                  ANXIETY STATE NOS               0   \n",
      "\n",
      "   Target  SBP below 120  SBP 120-140  SBP above 140  DBP below 80  DBP 80-90  \\\n",
      "0       1              0            0              1             0          0   \n",
      "1       1              0            0              1             0          0   \n",
      "2       1              0            0              1             0          0   \n",
      "3       1              0            0              1             0          0   \n",
      "4       1              0            0              1             0          0   \n",
      "\n",
      "   DBP above 90  ...  WHITE  Divorced  Life Partner  Married  Separated  \\\n",
      "0             1  ...      1         0             0        0          0   \n",
      "1             1  ...      1         0             0        1          0   \n",
      "2             1  ...      1         0             0        0          0   \n",
      "3             1  ...      1         0             0        1          0   \n",
      "4             1  ...      1         0             0        0          0   \n",
      "\n",
      "   Single  Widowed  EMERGENCY  INPATIENT  OUTPATIENT  \n",
      "0       0        1          1          1           1  \n",
      "1       0        0          1          1           1  \n",
      "2       0        1          1          1           1  \n",
      "3       0        0          1          1           1  \n",
      "4       0        1          1          1           1  \n",
      "\n",
      "[5 rows x 32 columns]\n"
     ]
    }
   ],
   "source": [
    "# Split the 'Encounter Type' values into separate columns\n",
    "split_encounters = data['Encounter Type'].str.get_dummies(sep=',')\n",
    "\n",
    "# Concatenate the original DataFrame with the new one hot encoded columns\n",
    "data = pd.concat([data, split_encounters], axis=1)\n",
    "\n",
    "# Drop the original 'Encounter Type' column\n",
    "data = data.drop(columns=['Encounter Type'])\n",
    "\n",
    "# Display the updated DataFrame\n",
    "print(\"Updated DataFrame with One Hot Encoding for 'Encounter Type':\")\n",
    "print(data.head())\n"
   ]
  },
  {
   "cell_type": "code",
   "execution_count": 48,
   "id": "b9cc1a6c",
   "metadata": {},
   "outputs": [
    {
     "name": "stdout",
     "output_type": "stream",
     "text": [
      "One Hot Encoded Columns for 'Encounter Type':\n",
      "   EMERGENCY  INPATIENT  OUTPATIENT\n",
      "0          1          1           1\n",
      "1          1          1           1\n",
      "2          1          1           1\n",
      "3          1          1           1\n",
      "4          1          1           1\n",
      "<class 'pandas.core.frame.DataFrame'>\n",
      "RangeIndex: 122314 entries, 0 to 122313\n",
      "Data columns (total 32 columns):\n",
      " #   Column                Non-Null Count   Dtype \n",
      "---  ------                --------------   ----- \n",
      " 0   PATID                 122314 non-null  int64 \n",
      " 1   Comorbidities         121973 non-null  object\n",
      " 2   Smoking_Status        122314 non-null  int64 \n",
      " 3   Target                122314 non-null  int64 \n",
      " 4   SBP below 120         122314 non-null  uint8 \n",
      " 5   SBP 120-140           122314 non-null  uint8 \n",
      " 6   SBP above 140         122314 non-null  uint8 \n",
      " 7   DBP below 80          122314 non-null  uint8 \n",
      " 8   DBP 80-90             122314 non-null  uint8 \n",
      " 9   DBP above 90          122314 non-null  uint8 \n",
      " 10  Age_Grp_50-60         122314 non-null  uint8 \n",
      " 11  Age_Grp_60-70         122314 non-null  uint8 \n",
      " 12  Age_Grp_70-80         122314 non-null  uint8 \n",
      " 13  Age_Grp_80-90         122314 non-null  uint8 \n",
      " 14  Age_Grp_90-100        122314 non-null  uint8 \n",
      " 15  Sex_F                 122314 non-null  uint8 \n",
      " 16  Sex_M                 122314 non-null  uint8 \n",
      " 17  AMERICAN_IND/ALASKAN  122314 non-null  uint8 \n",
      " 18  Race_asian            122314 non-null  uint8 \n",
      " 19  BLACK/AFRIC_AMERICAN  122314 non-null  uint8 \n",
      " 20  NAT_HAWAIIN           122314 non-null  uint8 \n",
      " 21  OTHER                 122314 non-null  uint8 \n",
      " 22  WHITE                 122314 non-null  uint8 \n",
      " 23  Divorced              122314 non-null  uint8 \n",
      " 24  Life Partner          122314 non-null  uint8 \n",
      " 25  Married               122314 non-null  uint8 \n",
      " 26  Separated             122314 non-null  uint8 \n",
      " 27  Single                122314 non-null  uint8 \n",
      " 28  Widowed               122314 non-null  uint8 \n",
      " 29  EMERGENCY             122314 non-null  int64 \n",
      " 30  INPATIENT             122314 non-null  int64 \n",
      " 31  OUTPATIENT            122314 non-null  int64 \n",
      "dtypes: int64(6), object(1), uint8(25)\n",
      "memory usage: 9.4+ MB\n"
     ]
    }
   ],
   "source": [
    "# Display the new one hot encoded columns\n",
    "encoded_columns = split_encounters.columns\n",
    "print(\"One Hot Encoded Columns for 'Encounter Type':\")\n",
    "print(data[encoded_columns].head())\n",
    "\n",
    "data.info()"
   ]
  },
  {
   "cell_type": "markdown",
   "id": "86d55694",
   "metadata": {},
   "source": [
    "# Rename the columns 'EMERGENCY' to 'EcType_ED', 'INPATIENT' to 'EcType_IP', and 'OUTPATIENT' to 'EcType_AV'"
   ]
  },
  {
   "cell_type": "code",
   "execution_count": 49,
   "id": "11d7e426",
   "metadata": {},
   "outputs": [
    {
     "name": "stdout",
     "output_type": "stream",
     "text": [
      "<class 'pandas.core.frame.DataFrame'>\n",
      "RangeIndex: 122314 entries, 0 to 122313\n",
      "Data columns (total 32 columns):\n",
      " #   Column                Non-Null Count   Dtype \n",
      "---  ------                --------------   ----- \n",
      " 0   PATID                 122314 non-null  int64 \n",
      " 1   Comorbidities         121973 non-null  object\n",
      " 2   Smoking_Status        122314 non-null  int64 \n",
      " 3   Target                122314 non-null  int64 \n",
      " 4   SBP below 120         122314 non-null  uint8 \n",
      " 5   SBP 120-140           122314 non-null  uint8 \n",
      " 6   SBP above 140         122314 non-null  uint8 \n",
      " 7   DBP below 80          122314 non-null  uint8 \n",
      " 8   DBP 80-90             122314 non-null  uint8 \n",
      " 9   DBP above 90          122314 non-null  uint8 \n",
      " 10  Age_Grp_50-60         122314 non-null  uint8 \n",
      " 11  Age_Grp_60-70         122314 non-null  uint8 \n",
      " 12  Age_Grp_70-80         122314 non-null  uint8 \n",
      " 13  Age_Grp_80-90         122314 non-null  uint8 \n",
      " 14  Age_Grp_90-100        122314 non-null  uint8 \n",
      " 15  Sex_F                 122314 non-null  uint8 \n",
      " 16  Sex_M                 122314 non-null  uint8 \n",
      " 17  AMERICAN_IND/ALASKAN  122314 non-null  uint8 \n",
      " 18  Race_asian            122314 non-null  uint8 \n",
      " 19  BLACK/AFRIC_AMERICAN  122314 non-null  uint8 \n",
      " 20  NAT_HAWAIIN           122314 non-null  uint8 \n",
      " 21  OTHER                 122314 non-null  uint8 \n",
      " 22  WHITE                 122314 non-null  uint8 \n",
      " 23  Divorced              122314 non-null  uint8 \n",
      " 24  Life Partner          122314 non-null  uint8 \n",
      " 25  Married               122314 non-null  uint8 \n",
      " 26  Separated             122314 non-null  uint8 \n",
      " 27  Single                122314 non-null  uint8 \n",
      " 28  Widowed               122314 non-null  uint8 \n",
      " 29  EcType_ED             122314 non-null  int64 \n",
      " 30  EcType_IP             122314 non-null  int64 \n",
      " 31  EcType_AV             122314 non-null  int64 \n",
      "dtypes: int64(6), object(1), uint8(25)\n",
      "memory usage: 9.4+ MB\n",
      "None\n",
      "     PATID                                      Comorbidities  Smoking_Status  \\\n",
      "0  2370058  Morbid (severe) obesity due to excess calories...               1   \n",
      "1  2459455  HYPERTENSION NOS,Essential (primary) hypertens...               1   \n",
      "2  2516556                                                NaN               0   \n",
      "3  2335038  Essential (primary) hypertension-I10,HYPERLIPI...               1   \n",
      "4  2524377                                  ANXIETY STATE NOS               0   \n",
      "\n",
      "   Target  SBP below 120  SBP 120-140  SBP above 140  DBP below 80  DBP 80-90  \\\n",
      "0       1              0            0              1             0          0   \n",
      "1       1              0            0              1             0          0   \n",
      "2       1              0            0              1             0          0   \n",
      "3       1              0            0              1             0          0   \n",
      "4       1              0            0              1             0          0   \n",
      "\n",
      "   DBP above 90  ...  WHITE  Divorced  Life Partner  Married  Separated  \\\n",
      "0             1  ...      1         0             0        0          0   \n",
      "1             1  ...      1         0             0        1          0   \n",
      "2             1  ...      1         0             0        0          0   \n",
      "3             1  ...      1         0             0        1          0   \n",
      "4             1  ...      1         0             0        0          0   \n",
      "\n",
      "   Single  Widowed  EcType_ED  EcType_IP  EcType_AV  \n",
      "0       0        1          1          1          1  \n",
      "1       0        0          1          1          1  \n",
      "2       0        1          1          1          1  \n",
      "3       0        0          1          1          1  \n",
      "4       0        1          1          1          1  \n",
      "\n",
      "[5 rows x 32 columns]\n"
     ]
    }
   ],
   "source": [
    "# Rename the specified columns\n",
    "data = data.rename(columns={\n",
    "    'EMERGENCY': 'EcType_ED',\n",
    "    'INPATIENT': 'EcType_IP',\n",
    "    'OUTPATIENT': 'EcType_AV'\n",
    "})\n",
    "\n",
    "# Display the DataFrame info to verify the changes\n",
    "print(data.info())\n",
    "\n",
    "# Print the first few rows to check the result\n",
    "print(data.head())\n"
   ]
  },
  {
   "cell_type": "code",
   "execution_count": 50,
   "id": "8ca6ef4a",
   "metadata": {},
   "outputs": [
    {
     "name": "stdout",
     "output_type": "stream",
     "text": [
      "<class 'pandas.core.frame.DataFrame'>\n",
      "RangeIndex: 122314 entries, 0 to 122313\n",
      "Data columns (total 32 columns):\n",
      " #   Column                Non-Null Count   Dtype \n",
      "---  ------                --------------   ----- \n",
      " 0   PATID                 122314 non-null  int64 \n",
      " 1   Comorbidities         121973 non-null  object\n",
      " 2   Smoking_Status        122314 non-null  int64 \n",
      " 3   Target                122314 non-null  int64 \n",
      " 4   SBP below 120         122314 non-null  uint8 \n",
      " 5   SBP 120-140           122314 non-null  uint8 \n",
      " 6   SBP above 140         122314 non-null  uint8 \n",
      " 7   DBP below 80          122314 non-null  uint8 \n",
      " 8   DBP 80-90             122314 non-null  uint8 \n",
      " 9   DBP above 90          122314 non-null  uint8 \n",
      " 10  Age_Grp_50-60         122314 non-null  uint8 \n",
      " 11  Age_Grp_60-70         122314 non-null  uint8 \n",
      " 12  Age_Grp_70-80         122314 non-null  uint8 \n",
      " 13  Age_Grp_80-90         122314 non-null  uint8 \n",
      " 14  Age_Grp_90-100        122314 non-null  uint8 \n",
      " 15  Sex_F                 122314 non-null  uint8 \n",
      " 16  Sex_M                 122314 non-null  uint8 \n",
      " 17  AMERICAN_IND/ALASKAN  122314 non-null  uint8 \n",
      " 18  Race_asian            122314 non-null  uint8 \n",
      " 19  BLACK/AFRIC_AMERICAN  122314 non-null  uint8 \n",
      " 20  NAT_HAWAIIN           122314 non-null  uint8 \n",
      " 21  OTHER                 122314 non-null  uint8 \n",
      " 22  WHITE                 122314 non-null  uint8 \n",
      " 23  Divorced              122314 non-null  uint8 \n",
      " 24  Life Partner          122314 non-null  uint8 \n",
      " 25  Married               122314 non-null  uint8 \n",
      " 26  Separated             122314 non-null  uint8 \n",
      " 27  Single                122314 non-null  uint8 \n",
      " 28  Widowed               122314 non-null  uint8 \n",
      " 29  EcType_ED             122314 non-null  int64 \n",
      " 30  EcType_IP             122314 non-null  int64 \n",
      " 31  EcType_AV             122314 non-null  int64 \n",
      "dtypes: int64(6), object(1), uint8(25)\n",
      "memory usage: 9.4+ MB\n"
     ]
    }
   ],
   "source": [
    "data.info()"
   ]
  },
  {
   "cell_type": "markdown",
   "id": "1177d212",
   "metadata": {},
   "source": [
    "# 7. Imputing, Mapping and Encoding for 'Comorbidities' Column"
   ]
  },
  {
   "cell_type": "code",
   "execution_count": 51,
   "id": "5e333764",
   "metadata": {},
   "outputs": [
    {
     "name": "stdout",
     "output_type": "stream",
     "text": [
      "PATID                     0\n",
      "Comorbidities           341\n",
      "Smoking_Status            0\n",
      "Target                    0\n",
      "SBP below 120             0\n",
      "SBP 120-140               0\n",
      "SBP above 140             0\n",
      "DBP below 80              0\n",
      "DBP 80-90                 0\n",
      "DBP above 90              0\n",
      "Age_Grp_50-60             0\n",
      "Age_Grp_60-70             0\n",
      "Age_Grp_70-80             0\n",
      "Age_Grp_80-90             0\n",
      "Age_Grp_90-100            0\n",
      "Sex_F                     0\n",
      "Sex_M                     0\n",
      "AMERICAN_IND/ALASKAN      0\n",
      "Race_asian                0\n",
      "BLACK/AFRIC_AMERICAN      0\n",
      "NAT_HAWAIIN               0\n",
      "OTHER                     0\n",
      "WHITE                     0\n",
      "Divorced                  0\n",
      "Life Partner              0\n",
      "Married                   0\n",
      "Separated                 0\n",
      "Single                    0\n",
      "Widowed                   0\n",
      "EcType_ED                 0\n",
      "EcType_IP                 0\n",
      "EcType_AV                 0\n",
      "dtype: int64\n"
     ]
    }
   ],
   "source": [
    "# Check the number of missing values in each column\n",
    "\n",
    "missing_values = data.isnull().sum()\n",
    "print(missing_values)"
   ]
  },
  {
   "cell_type": "code",
   "execution_count": 52,
   "id": "75e273c7",
   "metadata": {},
   "outputs": [
    {
     "name": "stdout",
     "output_type": "stream",
     "text": [
      "['Morbid (severe) obesity due to excess calories,INSOMNIA NEC,INSOMNIA NEC,DEPRESSIVE DISORDER NEC,DEPRESSIVE DISORDER NEC,ANXIETY STATE NOS,Unspecified dementia, unspecified severity, without behavioral disturbance, psychotic disturbance, mood disturbance, and anxiety,Insomnia, unspecified-G47.00,Uncontrolled depression,Athscl heart disease of native coronary artery w/o ang pctrs-I25.10,Uncontrolled depression,Atherosclerotic heart disease of native coronary artery without angina pectoris,Essential (primary) hypertension,Vitamin D deficiency, unspecified,DEPRESSIVE DISORDER NEC,Essential (primary) hypertension,Athscl heart disease of native coronary artery w/o ang pctrs-I25.10,Essential (primary) hypertension,DEPRESSIVE DISORDER NEC,ANXIETY STATE NOS,DEPRESSIVE DISORDER NEC,DEPRESSIVE DISORDER NEC,Insomnia, unspecified-G47.00,DEPRESSIVE DISORDER NEC,Unspecified depressive disorder,Hyperlipidemia, unspecified-E78.5,DEPRESSIVE DISORDER NEC,Uncontrolled depression,Localization-related (focal) (partial) symptomatic epilepsy and epileptic syndromes with complex partial seizures, not intractable, without status epilepticus,ANXIETY STATE NOS,HYPERLIPIDEMIA NEC-NOS,DEPRESSIVE DISORDER NEC,HYPERTENSION NOS,Major depressive disorder, single episode, unspecified-F32.9,Major depressive disorder, single episode, unspecified-F32.9,DEPRESSIVE DISORDER NEC,Chronic kidney disease, unspecified,DEPRESSIVE DISORDER NEC,DEPRESSIVE DISORDER NEC,ANXIETY STATE NOS,DEPRESSIVE DISORDER NEC,Insomnia, unspecified-G47.00,HYPERLIPIDEMIA NEC-NOS,Essential (primary) hypertension-I10,DEPRESSIVE DISORDER NEC,Uncontrolled depression,Athscl heart disease of native coronary artery w/o ang pctrs-I25.10,Major depressive disorder, single episode, unspecified-F32.9,Major depressive disorder, single episode, unspecified-F32.9,DEPRESSIVE DISORDER NEC,HYPERLIPIDEMIA NEC-NOS,Hyperlipidemia, unspecified-E78.5,DEPRESSIVE DISORDER NEC,HYPERTENSION NOS,Uncontrolled depression,Uncontrolled depression,Obstructive sleep apnea hypopnea,Major depressive disorder, single episode, unspecified-F32.9,DEPRESSIVE DISORDER NEC,DEPRESSIVE DISORDER NEC,ANXIETY STATE NOS,ANXIETY STATE NOS,DEPRESSIVE DISORDER NEC,DEPRESSIVE DISORDER NEC,Essential (primary) hypertension,Essential (primary) hypertension,Major depressive disorder, single episode, unspecified-F32.9,HYPERLIPIDEMIA NEC-NOS,Uncontrolled depression,DEPRESSIVE DISORDER NEC,DEPRESSIVE DISORDER NEC,Essential (primary) hypertension-I10,DEPRESSIVE DISORDER NEC,Pulmonary hypertension, unspecified,HYPERTENSION NOS,DEPRESSIVE DISORDER NEC,INSOMNIA NEC,DEPRESSIVE DISORDER NEC,Uncontrolled depression,Insomnia, unspecified-G47.00,ANXIETY STATE NOS,Athscl heart disease of native coronary artery w/o ang pctrs-I25.10,DEPRESSIVE DISORDER NEC,Insomnia, unspecified-G47.00,HYPERTENSION NOS,Athscl heart disease of native coronary artery w/o ang pctrs-I25.10,Essential (primary) hypertension,DEPRESSIVE DISORDER NEC,DEPRESSIVE DISORDER NEC,DEPRESSIVE DISORDER NEC,Uncontrolled depression,HEART DISEASE NOS,Unspecified dementia, unspecified severity, without behavioral disturbance, psychotic disturbance, mood disturbance, and anxiety,DEPRESSIVE DISORDER NEC,Hyperlipidemia, unspecified-E78.5,DEPRESSIVE DISORDER NEC,DEPRESSIVE DISORDER NEC,DEPRESSIVE DISORDER NEC,Hyperlipidemia, unspecified,Uncontrolled depression,Uncontrolled depression,DEPRESSIVE DISORDER NEC,Essential (primary) hypertension,Major depressive disorder, single episode, unspecified-F32.9,DEPRESSIVE DISORDER NEC,Uncontrolled depression,Uncontrolled depression,HYPERTENSION NOS,ANXIETY STATE NOS,HYPERLIPIDEMIA NEC-NOS,Uncontrolled depression,Insomnia, unspecified-G47.00,Major depressive disorder, single episode, unspecified-F32.9,Athscl heart disease of native coronary artery w/o ang pctrs-I25.10'\n",
      " 'HYPERTENSION NOS,Essential (primary) hypertension-I10,Essential (primary) hypertension-I10,Essential (primary) hypertension-I10,HYPERLIPIDEMIA NEC-NOS,HYPERLIPIDEMIA NEC-NOS,BENIGN HYPERTENSION,BENIGN HYPERTENSION,Type 2 diabetes mellitus with diabetic polyneuropathy-E11.42,HYPERLIPIDEMIA NEC-NOS,BENIGN HYPERTENSION,HYPERTENSION NOS,HYPERLIPIDEMIA NEC-NOS,HYPERTENSION NOS,HYPERTENSION NOS,Essential (primary) hypertension-I10,HYPERTENSION NOS,HYPERTENSION NOS,HYPERTENSION NOS,Essential (primary) hypertension-I10,BENIGN HYPERTENSION,BENIGN HYPERTENSION,Essential (primary) hypertension-I10,HYPERTENSION NOS,Type 2 diabetes mellitus with diabetic polyneuropathy-E11.42,Essential (primary) hypertension-I10,HYPERLIPIDEMIA NEC-NOS,HYPERTENSION NOS,MIXED HYPERLIPIDEMIA,Essential (primary) hypertension-I10,MIXED HYPERLIPIDEMIA,Type 2 diabetes mellitus with diabetic polyneuropathy-E11.42,HYPERTENSION NOS,Essential (primary) hypertension-I10,Essential (primary) hypertension-I10,HYPERTENSION NOS,HYPERTENSION NOS,Essential (primary) hypertension-I10,Mixed hyperlipidemia-E78.2,HYPERTENSION NOS,HYPERTENSION NOS'\n",
      " nan ...\n",
      " 'HYPERTENSION NOS,MORBID OBESITY,HYPERTENSION NOS,Hyperlipidemia, unspecified-E78.5,MORBID OBESITY,HYPERLIPIDEMIA NEC-NOS,Anxiety disorder, unspecified-F41.9,HYPERLIPIDEMIA NEC-NOS,Hyperlipidemia, unspecified-E78.5,HYPERLIPIDEMIA NEC-NOS,Anxiety disorder, unspecified-F41.9,HYPERLIPIDEMIA NEC-NOS,HYPERTENSION NOS,Essential (primary) hypertension-I10,Major depressive disorder, single episode, unspecified-F32.9,HYPERTENSION NOS,Major depressive disorder, single episode, unspecified-F32.9,ANXIETY STATE NOS,Athscl heart disease of native coronary artery w/o ang pctrs-I25.10,Essential (primary) hypertension-I10,Anxiety disorder, unspecified-F41.9,OBESITY, UNSPECIFIED'\n",
      " 'EPILEPSY NOS W/O IE,HYPERLIPIDEMIA NEC-NOS,EPILEPSY NOS W/O IE,HYPERTENSION NOS,Hyperlipidemia, unspecified-E78.5,DEPRESSIVE DISORDER NEC,HYPERTENSION NOS,EPILEPSY NOS W/O IE,HYPERTENSION NOS,HYPERTENSION NOS,HYPERTENSION NOS,Unipolar depression,EPILEPSY NOS W/O IE,EPILEPSY NOS W/O IE,Old cardioembolic stroke with hemiparesis of dominant side,Essential (primary) hypertension-I10,DEPRESSIVE DISORDER NEC,Essential (primary) hypertension-I10,EPILEPSY NOS W/O IE,Old cardioembolic stroke with hemiparesis of dominant side,Old cardioembolic stroke with hemiparesis of dominant side,HYPERTENSION NOS,Essential (primary) hypertension-I10,DEPRESSIVE DISORDER NEC,HYPERLIPIDEMIA NEC-NOS,Major depressive disorder, single episode, unspecified-F32.9,Major depressive disorder, single episode, unspecified-F32.9,HYPERTENSION NOS,DEPRESSIVE DISORDER NEC,Old cardioembolic stroke with hemiparesis of dominant side,HYPERTENSION NOS,DEPRESSIVE DISORDER NEC,HYPERLIPIDEMIA NEC-NOS,Epilepsy, unsp, not intractable, w/out status epilepticus-G40.909,HYPERTENSION NOS,Old cardioembolic stroke with hemiparesis of dominant side,Epilepsy, unsp, not intractable, w/out status epilepticus-G40.909,HYPERLIPIDEMIA NEC-NOS,HYPERTENSION NOS,MORBID OBESITY,Old cardioembolic stroke with hemiparesis of dominant side'\n",
      " 'Sleep apnea, unspecified-G47.30,UNSPECIFIED SLEEP APNEA,CHRONIC PERIODONTITIS, UNSPECIFIED,HYPERLIPIDEMIA NEC-NOS,UNSPECIFIED SLEEP APNEA,OBESITY, UNSPECIFIED,CHRONIC PERIODONTITIS, UNSPECIFIED,DEPRESSIVE DISORDER NEC,OBSTRUCTIVE SLEEP APNEA (ADULT) (PEDIATRIC),Sleep apnea, unspecified-G47.30,CHRONIC PERIODONTITIS, UNSPECIFIED,Uncontrolled depression,Essential (primary) hypertension-I10,Obesity, unspecified-E66.9,HYPERLIPIDEMIA NEC-NOS']\n",
      "HYPERTENSION NOS                                                                                                                                                                                                                                                                                                                                                                                                                                                        3457\n",
      "Essential (primary) hypertension-I10                                                                                                                                                                                                                                                                                                                                                                                                                                    2736\n",
      "HEADACHE                                                                                                                                                                                                                                                                                                                                                                                                                                                                1132\n",
      "Essential (primary) hypertension-I10,Essential (primary) hypertension-I10                                                                                                                                                                                                                                                                                                                                                                                                948\n",
      "HYPERTENSION NOS,HYPERTENSION NOS                                                                                                                                                                                                                                                                                                                                                                                                                                        864\n",
      "                                                                                                                                                                                                                                                                                                                                                                                                                                                                        ... \n",
      "Essential (primary) hypertension-I10,Type 2 diabetes mellitus with diabetic neuropathy, unsp-E11.40,Morbid (severe) obesity due to excess calories-E66.01,Hyperlipidemia, unspecified-E78.5,Essential (primary) hypertension-I10                                                                                                                                                                                                                                           1\n",
      "HYPERLIPIDEMIA NEC-NOS,HYPERTENSION NOS,HYPERTENSION NOS,HYPERLIPIDEMIA NEC-NOS,OBESITY, UNSPECIFIED,HYPERTENSION NOS                                                                                                                                                                                                                                                                                                                                                      1\n",
      "Essential (primary) hypertension-I10,Essential (primary) hypertension-I10,Obesity, unspecified-E66.9,Obesity, unspecified-E66.9,Obstructive sleep apnea (adult) (pediatric)-G47.33,Essential (primary) hypertension-I10,Headache-R51,Obstructive sleep apnea (adult) (pediatric)-G47.33,Obstructive sleep apnea (adult) (pediatric)-G47.33,Obesity, unspecified-E66.9,Other obesity due to excess calories-E66.09,Obstructive sleep apnea (adult) (pediatric)-G47.33       1\n",
      "Unspecified depressive disorder,Other specified anxiety disorders,Unspecified insomnia disorder,Hyperlipidemia, unspecified-E78.5,Unspecified anxiety disorder,Overweight or obesity,Essential (primary) hypertension,Unspecified insomnia disorder,Obstructive sleep apnea hypopnea,Vitamin D deficiency, unspecified,Essential (primary) hypertension-I10                                                                                                                1\n",
      "Sleep apnea, unspecified-G47.30,UNSPECIFIED SLEEP APNEA,CHRONIC PERIODONTITIS, UNSPECIFIED,HYPERLIPIDEMIA NEC-NOS,UNSPECIFIED SLEEP APNEA,OBESITY, UNSPECIFIED,CHRONIC PERIODONTITIS, UNSPECIFIED,DEPRESSIVE DISORDER NEC,OBSTRUCTIVE SLEEP APNEA (ADULT) (PEDIATRIC),Sleep apnea, unspecified-G47.30,CHRONIC PERIODONTITIS, UNSPECIFIED,Uncontrolled depression,Essential (primary) hypertension-I10,Obesity, unspecified-E66.9,HYPERLIPIDEMIA NEC-NOS                    1\n",
      "Name: Comorbidities, Length: 85428, dtype: int64\n"
     ]
    }
   ],
   "source": [
    "# Check unique values in the 'Comorbidities' column\n",
    "unique_Comorbidities = data['Comorbidities'].unique()\n",
    "print(unique_Comorbidities)\n",
    "\n",
    "# Verify the new columns and their unique values\n",
    "print(data['Comorbidities'].value_counts(dropna=False)) "
   ]
  },
  {
   "cell_type": "code",
   "execution_count": 53,
   "id": "2999d97d",
   "metadata": {},
   "outputs": [],
   "source": [
    "# List of specific diseases that we want to encode\n",
    "diseases_to_encode = [\n",
    "    'Diabetes', 'Type 2 Diabetes Mellitus', 'Epilepsy', 'Depression', 'Obesity', 'Stroke', 'Anxiety', 'Hypertension',\n",
    "    'Hyperlipidemia', 'Cardiovascular Disease', 'Sleep Disorder', 'Headache', 'Periodontitis', 'Concussion',\n",
    "    'Heart Disease', 'Sleep Apnea', 'Insomnia', 'Kidney Disease', 'Cholesterol', 'Vitamin D Deficiency',\n",
    "    'Enlarge Prostate', 'Osteoporosis', 'Bone Disease', 'Depressive Disorder'\n",
    "]\n",
    "\n",
    "# Define the function to create a new column for each disease\n",
    "def map_comorbidities(comorbidities, disease):\n",
    "    if pd.isna(comorbidities):\n",
    "        return 0\n",
    "    return 1 if disease.lower() in comorbidities.lower() else 0\n",
    "\n",
    "# Create new columns for each disease\n",
    "for disease in diseases_to_encode:\n",
    "    data[disease.replace(' ', '_')] = data['Comorbidities'].apply(lambda x: map_comorbidities(x, disease))"
   ]
  },
  {
   "cell_type": "code",
   "execution_count": 54,
   "id": "c7c46b71",
   "metadata": {},
   "outputs": [
    {
     "name": "stdout",
     "output_type": "stream",
     "text": [
      "Count of Diabetes: 12537\n",
      "Count of Type 2 Diabetes Mellitus: 11538\n",
      "Count of Epilepsy: 5584\n",
      "Count of Depression: 16648\n",
      "Count of Obesity: 34149\n",
      "Count of Stroke: 2667\n",
      "Count of Anxiety: 39826\n",
      "Count of Hypertension: 91736\n",
      "Count of Hyperlipidemia: 62225\n",
      "Count of Cardiovascular Disease: 2544\n",
      "Count of Sleep Disorder: 2411\n",
      "Count of Headache: 29819\n",
      "Count of Periodontitis: 1052\n",
      "Count of Concussion: 2846\n",
      "Count of Heart Disease: 24026\n",
      "Count of Sleep Apnea: 27238\n",
      "Count of Insomnia: 17823\n",
      "Count of Kidney Disease: 16937\n",
      "Count of Cholesterol: 0\n",
      "Count of Vitamin D Deficiency: 14586\n",
      "Count of Enlarge Prostate: 0\n",
      "Count of Osteoporosis: 0\n",
      "Count of Bone Disease: 8\n",
      "Count of Depressive Disorder: 37938\n"
     ]
    }
   ],
   "source": [
    "# Check the count of each newly created disease column\n",
    "\n",
    "for disease in diseases_to_encode:\n",
    "    column_name = disease.replace(' ', '_')\n",
    "    count = data[column_name].sum()\n",
    "    print(f\"Count of {disease}: {count}\")"
   ]
  },
  {
   "cell_type": "code",
   "execution_count": 55,
   "id": "21a415a2",
   "metadata": {},
   "outputs": [
    {
     "name": "stdout",
     "output_type": "stream",
     "text": [
      "     PATID                                      Comorbidities  Smoking_Status  \\\n",
      "0  2370058  Morbid (severe) obesity due to excess calories...               1   \n",
      "1  2459455  HYPERTENSION NOS,Essential (primary) hypertens...               1   \n",
      "2  2516556                                                NaN               0   \n",
      "3  2335038  Essential (primary) hypertension-I10,HYPERLIPI...               1   \n",
      "4  2524377                                  ANXIETY STATE NOS               0   \n",
      "\n",
      "   Target  SBP below 120  SBP 120-140  SBP above 140  DBP below 80  DBP 80-90  \\\n",
      "0       1              0            0              1             0          0   \n",
      "1       1              0            0              1             0          0   \n",
      "2       1              0            0              1             0          0   \n",
      "3       1              0            0              1             0          0   \n",
      "4       1              0            0              1             0          0   \n",
      "\n",
      "   DBP above 90  ...  Heart_Disease  Sleep_Apnea  Insomnia  Kidney_Disease  \\\n",
      "0             1  ...              1            1         1               1   \n",
      "1             1  ...              0            0         0               0   \n",
      "2             1  ...              0            0         0               0   \n",
      "3             1  ...              1            1         1               0   \n",
      "4             1  ...              0            0         0               0   \n",
      "\n",
      "   Cholesterol  Vitamin_D_Deficiency  Enlarge_Prostate  Osteoporosis  \\\n",
      "0            0                     1                 0             0   \n",
      "1            0                     0                 0             0   \n",
      "2            0                     0                 0             0   \n",
      "3            0                     0                 0             0   \n",
      "4            0                     0                 0             0   \n",
      "\n",
      "   Bone_Disease  Depressive_Disorder  \n",
      "0             0                    1  \n",
      "1             0                    0  \n",
      "2             0                    0  \n",
      "3             0                    1  \n",
      "4             0                    0  \n",
      "\n",
      "[5 rows x 56 columns]\n",
      "<class 'pandas.core.frame.DataFrame'>\n",
      "RangeIndex: 122314 entries, 0 to 122313\n",
      "Data columns (total 56 columns):\n",
      " #   Column                    Non-Null Count   Dtype \n",
      "---  ------                    --------------   ----- \n",
      " 0   PATID                     122314 non-null  int64 \n",
      " 1   Comorbidities             121973 non-null  object\n",
      " 2   Smoking_Status            122314 non-null  int64 \n",
      " 3   Target                    122314 non-null  int64 \n",
      " 4   SBP below 120             122314 non-null  uint8 \n",
      " 5   SBP 120-140               122314 non-null  uint8 \n",
      " 6   SBP above 140             122314 non-null  uint8 \n",
      " 7   DBP below 80              122314 non-null  uint8 \n",
      " 8   DBP 80-90                 122314 non-null  uint8 \n",
      " 9   DBP above 90              122314 non-null  uint8 \n",
      " 10  Age_Grp_50-60             122314 non-null  uint8 \n",
      " 11  Age_Grp_60-70             122314 non-null  uint8 \n",
      " 12  Age_Grp_70-80             122314 non-null  uint8 \n",
      " 13  Age_Grp_80-90             122314 non-null  uint8 \n",
      " 14  Age_Grp_90-100            122314 non-null  uint8 \n",
      " 15  Sex_F                     122314 non-null  uint8 \n",
      " 16  Sex_M                     122314 non-null  uint8 \n",
      " 17  AMERICAN_IND/ALASKAN      122314 non-null  uint8 \n",
      " 18  Race_asian                122314 non-null  uint8 \n",
      " 19  BLACK/AFRIC_AMERICAN      122314 non-null  uint8 \n",
      " 20  NAT_HAWAIIN               122314 non-null  uint8 \n",
      " 21  OTHER                     122314 non-null  uint8 \n",
      " 22  WHITE                     122314 non-null  uint8 \n",
      " 23  Divorced                  122314 non-null  uint8 \n",
      " 24  Life Partner              122314 non-null  uint8 \n",
      " 25  Married                   122314 non-null  uint8 \n",
      " 26  Separated                 122314 non-null  uint8 \n",
      " 27  Single                    122314 non-null  uint8 \n",
      " 28  Widowed                   122314 non-null  uint8 \n",
      " 29  EcType_ED                 122314 non-null  int64 \n",
      " 30  EcType_IP                 122314 non-null  int64 \n",
      " 31  EcType_AV                 122314 non-null  int64 \n",
      " 32  Diabetes                  122314 non-null  int64 \n",
      " 33  Type_2_Diabetes_Mellitus  122314 non-null  int64 \n",
      " 34  Epilepsy                  122314 non-null  int64 \n",
      " 35  Depression                122314 non-null  int64 \n",
      " 36  Obesity                   122314 non-null  int64 \n",
      " 37  Stroke                    122314 non-null  int64 \n",
      " 38  Anxiety                   122314 non-null  int64 \n",
      " 39  Hypertension              122314 non-null  int64 \n",
      " 40  Hyperlipidemia            122314 non-null  int64 \n",
      " 41  Cardiovascular_Disease    122314 non-null  int64 \n",
      " 42  Sleep_Disorder            122314 non-null  int64 \n",
      " 43  Headache                  122314 non-null  int64 \n",
      " 44  Periodontitis             122314 non-null  int64 \n",
      " 45  Concussion                122314 non-null  int64 \n",
      " 46  Heart_Disease             122314 non-null  int64 \n",
      " 47  Sleep_Apnea               122314 non-null  int64 \n",
      " 48  Insomnia                  122314 non-null  int64 \n",
      " 49  Kidney_Disease            122314 non-null  int64 \n",
      " 50  Cholesterol               122314 non-null  int64 \n",
      " 51  Vitamin_D_Deficiency      122314 non-null  int64 \n",
      " 52  Enlarge_Prostate          122314 non-null  int64 \n",
      " 53  Osteoporosis              122314 non-null  int64 \n",
      " 54  Bone_Disease              122314 non-null  int64 \n",
      " 55  Depressive_Disorder       122314 non-null  int64 \n",
      "dtypes: int64(30), object(1), uint8(25)\n",
      "memory usage: 31.8+ MB\n"
     ]
    }
   ],
   "source": [
    "# Display the dataframe to verify encoding\n",
    "print(data.head())\n",
    "data.info()"
   ]
  },
  {
   "cell_type": "code",
   "execution_count": 56,
   "id": "aaf0dcdf",
   "metadata": {},
   "outputs": [
    {
     "name": "stdout",
     "output_type": "stream",
     "text": [
      "     PATID                                      Comorbidities  Smoking_Status  \\\n",
      "0  2370058  Morbid (severe) obesity due to excess calories...               1   \n",
      "1  2459455  HYPERTENSION NOS,Essential (primary) hypertens...               1   \n",
      "2  2516556                                                NaN               0   \n",
      "3  2335038  Essential (primary) hypertension-I10,HYPERLIPI...               1   \n",
      "4  2524377                                  ANXIETY STATE NOS               0   \n",
      "\n",
      "   Target  SBP below 120  SBP 120-140  SBP above 140  DBP below 80  DBP 80-90  \\\n",
      "0       1              0            0              1             0          0   \n",
      "1       1              0            0              1             0          0   \n",
      "2       1              0            0              1             0          0   \n",
      "3       1              0            0              1             0          0   \n",
      "4       1              0            0              1             0          0   \n",
      "\n",
      "   DBP above 90  ...  Heart_Disease  Sleep_Apnea  Insomnia  Kidney_Disease  \\\n",
      "0             1  ...              1            1         1               1   \n",
      "1             1  ...              0            0         0               0   \n",
      "2             1  ...              0            0         0               0   \n",
      "3             1  ...              1            1         1               0   \n",
      "4             1  ...              0            0         0               0   \n",
      "\n",
      "   Cholesterol  Vitamin_D_Deficiency  Enlarge_Prostate  Osteoporosis  \\\n",
      "0            0                     1                 0             0   \n",
      "1            0                     0                 0             0   \n",
      "2            0                     0                 0             0   \n",
      "3            0                     0                 0             0   \n",
      "4            0                     0                 0             0   \n",
      "\n",
      "   Bone_Disease  Depressive_Disorder  \n",
      "0             0                    1  \n",
      "1             0                    0  \n",
      "2             0                    0  \n",
      "3             0                    1  \n",
      "4             0                    0  \n",
      "\n",
      "[5 rows x 56 columns]\n",
      "     PATID  Smoking_Status  Target  SBP below 120  SBP 120-140  SBP above 140  \\\n",
      "0  2370058               1       1              0            0              1   \n",
      "1  2459455               1       1              0            0              1   \n",
      "2  2516556               0       1              0            0              1   \n",
      "3  2335038               1       1              0            0              1   \n",
      "4  2524377               0       1              0            0              1   \n",
      "\n",
      "   DBP below 80  DBP 80-90  DBP above 90  Age_Grp_50-60  ...  Concussion  \\\n",
      "0             0          0             1              0  ...           0   \n",
      "1             0          0             1              0  ...           0   \n",
      "2             0          0             1              0  ...           0   \n",
      "3             0          0             1              0  ...           0   \n",
      "4             0          0             1              0  ...           0   \n",
      "\n",
      "   Heart_Disease  Sleep_Apnea  Insomnia  Kidney_Disease  Cholesterol  \\\n",
      "0              1            1         1               1            0   \n",
      "1              0            0         0               0            0   \n",
      "2              0            0         0               0            0   \n",
      "3              1            1         1               0            0   \n",
      "4              0            0         0               0            0   \n",
      "\n",
      "   Vitamin_D_Deficiency  Enlarge_Prostate  Bone_Disease  Depressive_Disorder  \n",
      "0                     1                 0             0                    1  \n",
      "1                     0                 0             0                    0  \n",
      "2                     0                 0             0                    0  \n",
      "3                     0                 0             0                    1  \n",
      "4                     0                 0             0                    0  \n",
      "\n",
      "[5 rows x 54 columns]\n",
      "<class 'pandas.core.frame.DataFrame'>\n",
      "RangeIndex: 122314 entries, 0 to 122313\n",
      "Data columns (total 54 columns):\n",
      " #   Column                    Non-Null Count   Dtype\n",
      "---  ------                    --------------   -----\n",
      " 0   PATID                     122314 non-null  int64\n",
      " 1   Smoking_Status            122314 non-null  int64\n",
      " 2   Target                    122314 non-null  int64\n",
      " 3   SBP below 120             122314 non-null  uint8\n",
      " 4   SBP 120-140               122314 non-null  uint8\n",
      " 5   SBP above 140             122314 non-null  uint8\n",
      " 6   DBP below 80              122314 non-null  uint8\n",
      " 7   DBP 80-90                 122314 non-null  uint8\n",
      " 8   DBP above 90              122314 non-null  uint8\n",
      " 9   Age_Grp_50-60             122314 non-null  uint8\n",
      " 10  Age_Grp_60-70             122314 non-null  uint8\n",
      " 11  Age_Grp_70-80             122314 non-null  uint8\n",
      " 12  Age_Grp_80-90             122314 non-null  uint8\n",
      " 13  Age_Grp_90-100            122314 non-null  uint8\n",
      " 14  Sex_F                     122314 non-null  uint8\n",
      " 15  Sex_M                     122314 non-null  uint8\n",
      " 16  AMERICAN_IND/ALASKAN      122314 non-null  uint8\n",
      " 17  Race_asian                122314 non-null  uint8\n",
      " 18  BLACK/AFRIC_AMERICAN      122314 non-null  uint8\n",
      " 19  NAT_HAWAIIN               122314 non-null  uint8\n",
      " 20  OTHER                     122314 non-null  uint8\n",
      " 21  WHITE                     122314 non-null  uint8\n",
      " 22  Divorced                  122314 non-null  uint8\n",
      " 23  Life Partner              122314 non-null  uint8\n",
      " 24  Married                   122314 non-null  uint8\n",
      " 25  Separated                 122314 non-null  uint8\n",
      " 26  Single                    122314 non-null  uint8\n",
      " 27  Widowed                   122314 non-null  uint8\n",
      " 28  EcType_ED                 122314 non-null  int64\n",
      " 29  EcType_IP                 122314 non-null  int64\n",
      " 30  EcType_AV                 122314 non-null  int64\n",
      " 31  Diabetes                  122314 non-null  int64\n",
      " 32  Type_2_Diabetes_Mellitus  122314 non-null  int64\n",
      " 33  Epilepsy                  122314 non-null  int64\n",
      " 34  Depression                122314 non-null  int64\n",
      " 35  Obesity                   122314 non-null  int64\n",
      " 36  Stroke                    122314 non-null  int64\n",
      " 37  Anxiety                   122314 non-null  int64\n",
      " 38  Hypertension              122314 non-null  int64\n",
      " 39  Hyperlipidemia            122314 non-null  int64\n",
      " 40  Cardiovascular_Disease    122314 non-null  int64\n",
      " 41  Sleep_Disorder            122314 non-null  int64\n",
      " 42  Headache                  122314 non-null  int64\n",
      " 43  Periodontitis             122314 non-null  int64\n",
      " 44  Concussion                122314 non-null  int64\n",
      " 45  Heart_Disease             122314 non-null  int64\n",
      " 46  Sleep_Apnea               122314 non-null  int64\n",
      " 47  Insomnia                  122314 non-null  int64\n",
      " 48  Kidney_Disease            122314 non-null  int64\n",
      " 49  Cholesterol               122314 non-null  int64\n",
      " 50  Vitamin_D_Deficiency      122314 non-null  int64\n",
      " 51  Enlarge_Prostate          122314 non-null  int64\n",
      " 52  Bone_Disease              122314 non-null  int64\n",
      " 53  Depressive_Disorder       122314 non-null  int64\n",
      "dtypes: int64(29), uint8(25)\n",
      "memory usage: 30.0 MB\n"
     ]
    }
   ],
   "source": [
    "# Verify the changes\n",
    "print(data.head())\n",
    "\n",
    "# Drop the original 'Comorbidities' column after encoding\n",
    "data.drop(columns=['Comorbidities', 'Osteoporosis'], inplace=True)\n",
    "\n",
    "# Display the first few rows of the dataframe to verify encoding\n",
    "print(data.head())\n",
    "data.info()"
   ]
  },
  {
   "cell_type": "code",
   "execution_count": 58,
   "id": "2c409c93",
   "metadata": {},
   "outputs": [
    {
     "name": "stdout",
     "output_type": "stream",
     "text": [
      "<class 'pandas.core.frame.DataFrame'>\n",
      "RangeIndex: 122314 entries, 0 to 122313\n",
      "Data columns (total 54 columns):\n",
      " #   Column                    Non-Null Count   Dtype\n",
      "---  ------                    --------------   -----\n",
      " 0   PATID                     122314 non-null  int64\n",
      " 1   Smoking_Status            122314 non-null  int64\n",
      " 2   SBP below 120             122314 non-null  uint8\n",
      " 3   SBP 120-140               122314 non-null  uint8\n",
      " 4   SBP above 140             122314 non-null  uint8\n",
      " 5   DBP below 80              122314 non-null  uint8\n",
      " 6   DBP 80-90                 122314 non-null  uint8\n",
      " 7   DBP above 90              122314 non-null  uint8\n",
      " 8   Age_Grp_50-60             122314 non-null  uint8\n",
      " 9   Age_Grp_60-70             122314 non-null  uint8\n",
      " 10  Age_Grp_70-80             122314 non-null  uint8\n",
      " 11  Age_Grp_80-90             122314 non-null  uint8\n",
      " 12  Age_Grp_90-100            122314 non-null  uint8\n",
      " 13  Sex_F                     122314 non-null  uint8\n",
      " 14  Sex_M                     122314 non-null  uint8\n",
      " 15  AMERICAN_IND/ALASKAN      122314 non-null  uint8\n",
      " 16  Race_asian                122314 non-null  uint8\n",
      " 17  BLACK/AFRIC_AMERICAN      122314 non-null  uint8\n",
      " 18  NAT_HAWAIIN               122314 non-null  uint8\n",
      " 19  OTHER                     122314 non-null  uint8\n",
      " 20  WHITE                     122314 non-null  uint8\n",
      " 21  Divorced                  122314 non-null  uint8\n",
      " 22  Life Partner              122314 non-null  uint8\n",
      " 23  Married                   122314 non-null  uint8\n",
      " 24  Separated                 122314 non-null  uint8\n",
      " 25  Single                    122314 non-null  uint8\n",
      " 26  Widowed                   122314 non-null  uint8\n",
      " 27  EcType_ED                 122314 non-null  int64\n",
      " 28  EcType_IP                 122314 non-null  int64\n",
      " 29  EcType_AV                 122314 non-null  int64\n",
      " 30  Diabetes                  122314 non-null  int64\n",
      " 31  Type_2_Diabetes_Mellitus  122314 non-null  int64\n",
      " 32  Epilepsy                  122314 non-null  int64\n",
      " 33  Depression                122314 non-null  int64\n",
      " 34  Obesity                   122314 non-null  int64\n",
      " 35  Stroke                    122314 non-null  int64\n",
      " 36  Anxiety                   122314 non-null  int64\n",
      " 37  Hypertension              122314 non-null  int64\n",
      " 38  Hyperlipidemia            122314 non-null  int64\n",
      " 39  Cardiovascular_Disease    122314 non-null  int64\n",
      " 40  Sleep_Disorder            122314 non-null  int64\n",
      " 41  Headache                  122314 non-null  int64\n",
      " 42  Periodontitis             122314 non-null  int64\n",
      " 43  Concussion                122314 non-null  int64\n",
      " 44  Heart_Disease             122314 non-null  int64\n",
      " 45  Sleep_Apnea               122314 non-null  int64\n",
      " 46  Insomnia                  122314 non-null  int64\n",
      " 47  Kidney_Disease            122314 non-null  int64\n",
      " 48  Cholesterol               122314 non-null  int64\n",
      " 49  Vitamin_D_Deficiency      122314 non-null  int64\n",
      " 50  Enlarge_Prostate          122314 non-null  int64\n",
      " 51  Bone_Disease              122314 non-null  int64\n",
      " 52  Depressive_Disorder       122314 non-null  int64\n",
      " 53  Target                    122314 non-null  int64\n",
      "dtypes: int64(29), uint8(25)\n",
      "memory usage: 30.0 MB\n",
      "None\n",
      "     PATID  Smoking_Status  SBP below 120  SBP 120-140  SBP above 140  \\\n",
      "0  2370058               1              0            0              1   \n",
      "1  2459455               1              0            0              1   \n",
      "2  2516556               0              0            0              1   \n",
      "3  2335038               1              0            0              1   \n",
      "4  2524377               0              0            0              1   \n",
      "\n",
      "   DBP below 80  DBP 80-90  DBP above 90  Age_Grp_50-60  Age_Grp_60-70  ...  \\\n",
      "0             0          0             1              0              0  ...   \n",
      "1             0          0             1              0              0  ...   \n",
      "2             0          0             1              0              0  ...   \n",
      "3             0          0             1              0              0  ...   \n",
      "4             0          0             1              0              0  ...   \n",
      "\n",
      "   Heart_Disease  Sleep_Apnea  Insomnia  Kidney_Disease  Cholesterol  \\\n",
      "0              1            1         1               1            0   \n",
      "1              0            0         0               0            0   \n",
      "2              0            0         0               0            0   \n",
      "3              1            1         1               0            0   \n",
      "4              0            0         0               0            0   \n",
      "\n",
      "   Vitamin_D_Deficiency  Enlarge_Prostate  Bone_Disease  Depressive_Disorder  \\\n",
      "0                     1                 0             0                    1   \n",
      "1                     0                 0             0                    0   \n",
      "2                     0                 0             0                    0   \n",
      "3                     0                 0             0                    1   \n",
      "4                     0                 0             0                    0   \n",
      "\n",
      "   Target  \n",
      "0       1  \n",
      "1       1  \n",
      "2       1  \n",
      "3       1  \n",
      "4       1  \n",
      "\n",
      "[5 rows x 54 columns]\n"
     ]
    }
   ],
   "source": [
    "# Move the 'Targer' column to the end\n",
    "target_col = data.pop('Target')\n",
    "data['Target'] = target_col\n",
    "\n",
    "# Print the DataFrame info to verify the changes\n",
    "print(data.info())\n",
    "print(data.head())\n"
   ]
  },
  {
   "cell_type": "markdown",
   "id": "c898b8ee",
   "metadata": {},
   "source": [
    "# Save the Preprocessing DataFrame to a CSV File"
   ]
  },
  {
   "cell_type": "code",
   "execution_count": null,
   "id": "92a8c78f",
   "metadata": {},
   "outputs": [],
   "source": [
    "# Save the DataFrame to a CSV file for ML analysis\n",
    "\n",
    "data.to_csv('Combined_ML_1Yr_ML_Analysis.csv', index=False)"
   ]
  }
 ],
 "metadata": {
  "kernelspec": {
   "display_name": "Python 3 (ipykernel)",
   "language": "python",
   "name": "python3"
  },
  "language_info": {
   "codemirror_mode": {
    "name": "ipython",
    "version": 3
   },
   "file_extension": ".py",
   "mimetype": "text/x-python",
   "name": "python",
   "nbconvert_exporter": "python",
   "pygments_lexer": "ipython3",
   "version": "3.11.4"
  }
 },
 "nbformat": 4,
 "nbformat_minor": 5
}
